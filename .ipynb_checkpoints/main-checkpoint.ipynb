{
 "cells": [
  {
   "cell_type": "markdown",
   "id": "d223c87f-e918-4909-bb0d-fb92655d2fe4",
   "metadata": {},
   "source": [
    "<img src=\"./title-kaggle.gif\"/>"
   ]
  },
  {
   "cell_type": "markdown",
   "id": "1103093a-d7c1-45de-a048-60123aa165e8",
   "metadata": {},
   "source": [
    "#  <span style=\"color: darkred\"><span style='font-family:\"Times New Roman\"'> <span styel=''>**<ins>INTRODUCTION**</ins></span></span>\n",
    "\n",
    "\n",
    "***Le projet Titanic sur Kaggle est une étude classique en science des données et en apprentissage automatique. L’objectif principal est de développer un modèle prédictif capable de déterminer si un passager a survécu au naufrage du Titanic en fonction de ses caractéristiques personnelles telles que l'âge, le sexe, la classe sociale, et d'autres informations.***\n",
    "\n",
    "***Ce projet met l’accent sur plusieurs aspects essentiels :***\n",
    "\n",
    " ***Exploration et analyse des données : Comprendre la structure des données et identifier les relations clés entre les variables.***\n",
    " ***Préparation des données : Nettoyer les données, traiter les valeurs manquantes et transformer les variables pour les rendre exploitables par les modèles.***\n",
    " ***Modélisation : Construire et évaluer des modèles d’apprentissage automatique, tels que la régression logistique, les arbres de décision ou les forêts aléatoires, pour prédire la survie des passagers.***\n",
    " ***En travaillant sur ce projet, l’objectif est de maîtriser les étapes fondamentales d’un pipeline de machine learning tout en manipulant un dataset emblématique.***"
   ]
  },
  {
   "cell_type": "markdown",
   "id": "0ad795c0-e105-4ae0-887d-980c607ea66d",
   "metadata": {},
   "source": [
    "<span style=\"color: #2e6f40\">//////////////////////////////////////////////////////////////////////////////////////////////////////////////////////////////////////////////////////////////////////////////////////////////////////////</span>"
   ]
  },
  {
   "cell_type": "markdown",
   "id": "c9d666a6-3180-4b95-8356-54648c73a7f1",
   "metadata": {},
   "source": [
    "#  <span style=\"color: darkred\"><span style='font-family:\"Times New Roman\"'> <span styel=''>**1) <ins>STRATÉGIE GLOBALE**</ins></span></span>\n",
    "* ## <span style=\"color: darkblue\"><span style='font-family:\"Times New Roman\"'> <span styel=''>**a) Approche iterative**</span></span>\n",
    "    - ### <span style='font-family:\"Times New Roman\"'> <span styel=''>**Progression par étapes progressives**</span>\n",
    "    - ### <span style='font-family:\"Times New Roman\"'> <span styel=''>**Amélioration continue du modèle**</span>\n",
    "    - ### <span style='font-family:\"Times New Roman\"'> <span styel=''>**Test de différentes techniques**</span>\n",
    "* ## <span style=\"color: darkblue\"><span style='font-family:\"Times New Roman\"'> <span styel=''>**b) Phase de développement**</span></span>"
   ]
  },
  {
   "cell_type": "markdown",
   "id": "74ea51e1-86a9-4903-a976-85792c9e3d69",
   "metadata": {},
   "source": [
    "<span style=\"color: #2e6f40\">//////////////////////////////////////////////////////////////////////////////////////////////////////////////////////////////////////////////////////////////////////////////////////////////////////////</span>"
   ]
  },
  {
   "cell_type": "markdown",
   "id": "3b49d7d1-7915-414d-be17-5e2667b48b3e",
   "metadata": {},
   "source": [
    "# <span style=\"color: darkred\"><span style='font-family:\"Times New Roman\"'> <span styel=''>**2) <ins>ITERATION 0**</ins></span></span>\n",
    "* ## <span style=\"color: darkblue\"><span style='font-family:\"Times New Roman\"'> <span styel=''>**a) Prediction où personne ne survit**</span></span>\n",
    "* ## <span style=\"color: darkblue\"><span style='font-family:\"Times New Roman\"'> <span styel=''>**b) Comprendre le taux de survit**</span></span>\n",
    "* ## <span style=\"color: darkblue\"><span style='font-family:\"Times New Roman\"'> <span styel=''>**c) Score de référence :**</span></span>\n",
    "    - ### <span style='font-family:\"Times New Roman\"'> <span styel=''>**~ 62% (taux de personnes qui ne survit pas)**</span>"
   ]
  },
  {
   "cell_type": "markdown",
   "id": "23f61f52-9204-46d0-8038-8668ca07970d",
   "metadata": {},
   "source": [
    "---"
   ]
  },
  {
   "cell_type": "markdown",
   "id": "495444fc-c66a-47e1-b868-e159010415bc",
   "metadata": {},
   "source": [
    "* ## ⚠️ <span style=\"color: red\"><span style='font-family:\"Times New Roman\"'> <span styel=''>***Points importants à noter :***</span></span></span>\n",
    "\n",
    "    - ### <span style='font-family:\"Times New Roman\"'> <span styel=''>Ce modèle servira de baseline</span></span>\n",
    "    - ### <span style='font-family:\"Times New Roman\"'> <span styel=''>Il nous permet de comprendre le taux de survie réel</span></span>\n",
    "    - ### <span style='font-family:\"Times New Roman\"'> <span styel=''>La précision sera probablement très basse (car tout le monde est prédit comme non survivant)</span></span>"
   ]
  },
  {
   "cell_type": "code",
   "execution_count": 87,
   "id": "1a9496da-17c1-475f-a69a-741bde439177",
   "metadata": {},
   "outputs": [],
   "source": [
    "import pandas as pd\n",
    "import numpy as np\n",
    "import matplotlib.pyplot as plt\n",
    "import seaborn as sns\n",
    "from sklearn.model_selection import train_test_split, cross_val_score, RandomizedSearchCV, StratifiedKFold, GridSearchCV\n",
    "from sklearn.linear_model import LogisticRegression\n",
    "from sklearn.preprocessing import StandardScaler, LabelEncoder, PolynomialFeatures\n",
    "from sklearn.impute import SimpleImputer\n",
    "from sklearn.ensemble import RandomForestClassifier, GradientBoostingClassifier\n",
    "from sklearn.metrics import accuracy_score, classification_report, roc_auc_score\n",
    "import xgboost as xgb\n",
    "from sklearn.svm import SVC\n",
    "import warnings"
   ]
  },
  {
   "cell_type": "markdown",
   "id": "d1fca24b-ac1c-4e7d-a795-635e7844dc8b",
   "metadata": {},
   "source": [
    "### 🚧🚧🚧 <span style='background:yellow'><span style=\"color:orange\"> ***Ici il y aura une explication du bloc***</span></span> 🚧🚧🚧\n",
    "\n",
    "Nous importons tout les imports pour le programme."
   ]
  },
  {
   "cell_type": "code",
   "execution_count": 88,
   "id": "04723de3-5427-44cd-91a8-27fac1ecf220",
   "metadata": {},
   "outputs": [],
   "source": [
    "# Supprimer les avertissements spécifiques\n",
    "warnings.filterwarnings('ignore', category=UserWarning, module='xgboost')\n",
    "warnings.filterwarnings('ignore', category=FutureWarning)"
   ]
  },
  {
   "cell_type": "markdown",
   "id": "5c9d1519-1bf8-43cb-a124-78467d8cdfa9",
   "metadata": {},
   "source": [
    "---"
   ]
  },
  {
   "cell_type": "markdown",
   "id": "79c7431c-593f-4f23-a5f4-d131734af0f9",
   "metadata": {},
   "source": [
    "<span style=\"color: #2e6f40\"><span style='font-family:\"Times New Roman\"'> <span styel=''><ins>**Charger les données**</ins></span></span>"
   ]
  },
  {
   "cell_type": "code",
   "execution_count": 89,
   "id": "28337cc5-5b09-4e5c-ae55-ded4989791a0",
   "metadata": {},
   "outputs": [],
   "source": [
    "train = pd.read_csv('data/train.csv')\n",
    "test = pd.read_csv('data/test.csv')"
   ]
  },
  {
   "cell_type": "code",
   "execution_count": 90,
   "id": "266d1c1b-30de-4760-9521-f525d09f24a8",
   "metadata": {},
   "outputs": [
    {
     "name": "stdout",
     "output_type": "stream",
     "text": [
      "Dimensions train : (891, 12)\n",
      "Dimensions test : (418, 11)\n",
      "\n",
      "Colonnes train : ['PassengerId', 'Survived', 'Pclass', 'Name', 'Sex', 'Age', 'SibSp', 'Parch', 'Ticket', 'Fare', 'Cabin', 'Embarked']\n",
      "Colonnes test : ['PassengerId', 'Pclass', 'Name', 'Sex', 'Age', 'SibSp', 'Parch', 'Ticket', 'Fare', 'Cabin', 'Embarked'] \n",
      "\n"
     ]
    }
   ],
   "source": [
    "print(f\"Dimensions train : {train.shape}\")\n",
    "print(f\"Dimensions test : {test.shape}\\n\")\n",
    "\n",
    "print(\"Colonnes train :\", train.columns.tolist())\n",
    "print(\"Colonnes test :\", test.columns.tolist(), \"\\n\")"
   ]
  },
  {
   "cell_type": "markdown",
   "id": "cca67a4f-8de9-43b9-9d47-26226d0daa2f",
   "metadata": {},
   "source": [
    "### 🚧🚧🚧 <span style='background:yellow'><span style=\"color:orange\"> ***Ici il y aura une explication du bloc***</span></span> 🚧🚧🚧\n",
    "\n",
    "Maintenant nous chargeons les données utilisées."
   ]
  },
  {
   "cell_type": "markdown",
   "id": "499998c6-330a-48cc-9541-b5e6f8001f8e",
   "metadata": {},
   "source": [
    "---"
   ]
  },
  {
   "cell_type": "markdown",
   "id": "acbd32fd-bf21-4574-8764-a47de25a2150",
   "metadata": {},
   "source": [
    "<span style=\"color: #2e6f40\"><span style='font-family:\"Times New Roman\"'> <span styel=''><ins>**Méthode naive : prédire 0 (pas de survivant)**</ins></span></span>"
   ]
  },
  {
   "cell_type": "code",
   "execution_count": 91,
   "id": "cf4bf11d-677f-40f7-9e73-1947ae854676",
   "metadata": {},
   "outputs": [],
   "source": [
    "predictions = np.zeros(len(test), dtype=int)"
   ]
  },
  {
   "cell_type": "code",
   "execution_count": 92,
   "id": "fcbc0af3-02c9-4992-97b9-2db45a7d8c63",
   "metadata": {},
   "outputs": [
    {
     "name": "stdout",
     "output_type": "stream",
     "text": [
      "Nombre de prédictions (test) : 418\n",
      "Valeurs uniques dans predictions : [0]\n",
      "\n"
     ]
    }
   ],
   "source": [
    "print(f\"Nombre de prédictions (test) : {len(predictions)}\")\n",
    "print(f\"Valeurs uniques dans predictions : {np.unique(predictions)}\\n\")"
   ]
  },
  {
   "cell_type": "markdown",
   "id": "132351ae-c9ce-4b5d-bfa4-c3e285235f14",
   "metadata": {},
   "source": [
    "### 🚧🚧🚧 <span style='background:yellow'><span style=\"color:orange\"> ***Ici il y aura une explication du bloc***</span></span> 🚧🚧🚧\n",
    "\n",
    "Nous créons une variable où nous prédisons qu'il n'y aura aucun survivant."
   ]
  },
  {
   "cell_type": "markdown",
   "id": "985a346e-d63d-4aa2-ab9f-f838a8cd250d",
   "metadata": {},
   "source": [
    "---"
   ]
  },
  {
   "cell_type": "markdown",
   "id": "28ca78d2-1a86-427f-963c-941af2bf2428",
   "metadata": {},
   "source": [
    "<span style=\"color: #2e6f40\"><span style='font-family:\"Times New Roman\"'> <span styel=''><ins>**Calculer le score sur le jeu d'entraînement**</ins></span></span>"
   ]
  },
  {
   "cell_type": "code",
   "execution_count": 93,
   "id": "58f64e52-b567-46f6-af93-4d5b24a9c8db",
   "metadata": {},
   "outputs": [],
   "source": [
    "train_predictions = np.zeros(len(train), dtype=int)\n",
    "baseline_accuracy = accuracy_score(train['Survived'], train_predictions)\n"
   ]
  },
  {
   "cell_type": "code",
   "execution_count": 94,
   "id": "d7cd5571-ae97-40d0-9896-3135941acf15",
   "metadata": {},
   "outputs": [
    {
     "name": "stdout",
     "output_type": "stream",
     "text": [
      "Distribution vraie des survivants train :\n",
      "Survived\n",
      "0    0.616162\n",
      "1    0.383838\n",
      "Name: proportion, dtype: float64\n"
     ]
    }
   ],
   "source": [
    "print(f\"Distribution vraie des survivants train :\")\n",
    "print(train['Survived'].value_counts(normalize=True))"
   ]
  },
  {
   "cell_type": "code",
   "execution_count": 95,
   "id": "e13ba67c-3fbc-4556-9f2f-e54ecd582338",
   "metadata": {},
   "outputs": [
    {
     "name": "stdout",
     "output_type": "stream",
     "text": [
      "\n",
      "Précision du modèle de base : 61.62%\n"
     ]
    }
   ],
   "source": [
    "print(f\"\\nPrécision du modèle de base : {baseline_accuracy:.2%}\")"
   ]
  },
  {
   "cell_type": "markdown",
   "id": "b6ddc660-5eaa-4344-bf6e-1f195c9ba7a0",
   "metadata": {},
   "source": [
    "### 🚧🚧🚧 <span style='background:yellow'><span style=\"color:orange\"> ***Ici il y aura une explication du bloc***</span></span> 🚧🚧🚧\n",
    "\n"
   ]
  },
  {
   "cell_type": "markdown",
   "id": "8f4111a4-d65c-41a7-957e-a0b32ad56f6d",
   "metadata": {},
   "source": [
    "---"
   ]
  },
  {
   "cell_type": "markdown",
   "id": "072673e8-bad0-41e9-ba8f-fe2405a8e4dc",
   "metadata": {},
   "source": [
    "<span style=\"color: #2e6f40\"><span style='font-family:\"Times New Roman\"'> <span styel=''><ins>**Vérification manuelle du score**</ins></span></span>\n"
   ]
  },
  {
   "cell_type": "code",
   "execution_count": 96,
   "id": "bf1dbfb0-9e30-4c6a-a897-84da59fc816e",
   "metadata": {},
   "outputs": [],
   "source": [
    "manual_accuracy = (train['Survived'] == train_predictions).mean()\n"
   ]
  },
  {
   "cell_type": "code",
   "execution_count": 97,
   "id": "d5af6c59-bcdb-481f-82e5-cad0c96e2f3d",
   "metadata": {},
   "outputs": [
    {
     "name": "stdout",
     "output_type": "stream",
     "text": [
      "Vérification manuelle de la précision : 61.62%\n",
      "✅ Le score est correctement calculé\n",
      "\n"
     ]
    }
   ],
   "source": [
    "print(f\"Vérification manuelle de la précision : {manual_accuracy:.2%}\")\n",
    "if abs(baseline_accuracy - manual_accuracy) < 0.0001:\n",
    "    print(\"✅ Le score est correctement calculé\\n\")\n",
    "else:\n",
    "    print(\"❌ Erreur dans le calcul du score\\n\")"
   ]
  },
  {
   "cell_type": "markdown",
   "id": "d1f2310c-bf15-4b5d-b79e-a79bf7f46fc3",
   "metadata": {},
   "source": [
    "---"
   ]
  },
  {
   "cell_type": "markdown",
   "id": "c7bbe436-fd30-4644-99c2-3495283ea1ba",
   "metadata": {},
   "source": [
    "<span style=\"color: #2e6f40\"><span style='font-family:\"Times New Roman\"'> <span styel=''><ins>**Préparer le fichier de soumission**</ins></span></span>"
   ]
  },
  {
   "cell_type": "code",
   "execution_count": 98,
   "id": "dddb7e64-15bf-4e01-aeef-c1eb16e532e6",
   "metadata": {},
   "outputs": [],
   "source": [
    "submission = pd.DataFrame({\n",
    "    'PassengerId': test['PassengerId'],\n",
    "    'Survived': predictions\n",
    "})\n",
    "submission.to_csv('data/baseline_submission.csv', index=False)"
   ]
  },
  {
   "cell_type": "code",
   "execution_count": 99,
   "id": "d99392d3-e72f-4708-9dd8-d3f485aa5ddd",
   "metadata": {},
   "outputs": [
    {
     "name": "stdout",
     "output_type": "stream",
     "text": [
      "Vérification du format de soumission :\n",
      "Nombre de lignes : 418\n",
      "Colonnes : ['PassengerId', 'Survived']\n",
      "Valeurs manquantes : 0\n",
      "\n"
     ]
    }
   ],
   "source": [
    "print(\"Vérification du format de soumission :\")\n",
    "print(f\"Nombre de lignes : {len(submission)}\")\n",
    "print(f\"Colonnes : {submission.columns.tolist()}\")\n",
    "print(f\"Valeurs manquantes : {submission.isnull().sum().sum()}\\n\")"
   ]
  },
  {
   "cell_type": "markdown",
   "id": "006d08a0-0421-408c-980c-facbc2bb59ae",
   "metadata": {},
   "source": [
    "### 🚧🚧🚧 <span style='background:yellow'><span style=\"color:orange\"> ***Ici il y aura une explication du bloc***</span></span> 🚧🚧🚧"
   ]
  },
  {
   "cell_type": "markdown",
   "id": "13e7d012-9344-4d63-9fdd-6f1bce9b3396",
   "metadata": {},
   "source": [
    "---"
   ]
  },
  {
   "cell_type": "markdown",
   "id": "c41bdeb7-b607-4484-bcb5-2c44d13a9e50",
   "metadata": {},
   "source": [
    "<span style=\"color: #2e6f40\"><span style='font-family:\"Times New Roman\"'> <span styel=''><ins>**Quelques statistiques descriptives**</ins></span></span>"
   ]
  },
  {
   "cell_type": "code",
   "execution_count": 100,
   "id": "e1761bf6-b625-4e99-ba16-326c303f75e4",
   "metadata": {},
   "outputs": [],
   "source": [
    "total_passengers = len(train)\n",
    "total_survivors = train['Survived'].sum()\n",
    "#survival_rate = float(total_survivors) / float(total_passengers)\n",
    "survival_rate = total_survivors / total_passengers"
   ]
  },
  {
   "cell_type": "code",
   "execution_count": 101,
   "id": "8e266923-bdd7-438f-ba3f-8bbc553f8056",
   "metadata": {},
   "outputs": [
    {
     "name": "stdout",
     "output_type": "stream",
     "text": [
      "Train set :\n",
      "- Nombre total de passagers : 891\n",
      "- Nombre de survivants : 342\n",
      "- Nombre de décès : 549\n",
      "- Taux de survie : 38.38%\n",
      "- Taux de mortalité : 61.62%\n"
     ]
    }
   ],
   "source": [
    "print(f\"Train set :\")\n",
    "print(f\"- Nombre total de passagers : {total_passengers}\")\n",
    "print(f\"- Nombre de survivants : {total_survivors}\")\n",
    "print(f\"- Nombre de décès : {total_passengers - total_survivors}\")\n",
    "print(f\"- Taux de survie : {survival_rate:.2%}\")\n",
    "print(f\"- Taux de mortalité : {1-survival_rate:.2%}\")"
   ]
  },
  {
   "cell_type": "markdown",
   "id": "2d300b13-42f0-4106-b416-ff782d6bf51d",
   "metadata": {},
   "source": [
    "### 🚧🚧🚧 <span style='background:yellow'><span style=\"color:orange\"> ***Ici il y aura une explication du bloc***</span></span> 🚧🚧🚧"
   ]
  },
  {
   "cell_type": "markdown",
   "id": "9c22b02c-ca13-4c07-a150-f1711a2989a7",
   "metadata": {},
   "source": [
    "---"
   ]
  },
  {
   "cell_type": "markdown",
   "id": "dd796f15-531d-4163-aeaa-9437b534be21",
   "metadata": {},
   "source": [
    "<span style=\"color: #2e6f40\"><span style='font-family:\"Times New Roman\"'> <span styel=''><ins>**Vérification de la cohérence**</ins></span></span>"
   ]
  },
  {
   "cell_type": "code",
   "execution_count": 102,
   "id": "0155a897-f337-4c1d-85d9-7ff9c0c99de1",
   "metadata": {},
   "outputs": [],
   "source": [
    "expected_accuracy = 1 - survival_rate"
   ]
  },
  {
   "cell_type": "code",
   "execution_count": 103,
   "id": "3bdf63d8-1131-471e-9e86-43b5ceed8f9f",
   "metadata": {},
   "outputs": [
    {
     "name": "stdout",
     "output_type": "stream",
     "text": [
      "\n",
      "Vérification finale :\n",
      "- Score attendu (1 - taux de survie) : 61.62%\n",
      "- Score obtenu : 61.62%\n",
      "✅ Les calculs sont cohérents\n"
     ]
    }
   ],
   "source": [
    "print(f\"\\nVérification finale :\")\n",
    "print(f\"- Score attendu (1 - taux de survie) : {expected_accuracy:.2%}\")\n",
    "print(f\"- Score obtenu : {baseline_accuracy:.2%}\")\n",
    "if abs(expected_accuracy - baseline_accuracy) < 0.0001:\n",
    "    print(\"✅ Les calculs sont cohérents\")\n",
    "else:\n",
    "    print(\"❌ Incohérence dans les calculs\")"
   ]
  },
  {
   "cell_type": "markdown",
   "id": "0a2aa02a-134c-4512-b33b-4374f59273ec",
   "metadata": {},
   "source": [
    "### 🚧🚧🚧 <span style='background:yellow'><span style=\"color:orange\"> ***Ici il y aura une explication du bloc***</span></span> 🚧🚧🚧"
   ]
  },
  {
   "cell_type": "markdown",
   "id": "e463c99e-cb3d-437e-9521-b4566cc36daa",
   "metadata": {},
   "source": [
    "---"
   ]
  },
  {
   "cell_type": "markdown",
   "id": "599d7aaf-5c6d-4102-9ee7-1911f492dae5",
   "metadata": {},
   "source": [
    "## <span style=\"color: darkblue\"><span style='font-family:\"Times New Roman\"'> <span styel=''>**1. <ins>Graphique du taux de survie par sexe et classe**</ins></span></span>\n"
   ]
  },
  {
   "cell_type": "code",
   "execution_count": 104,
   "id": "017379b0-c595-4f71-84ae-f0966189612b",
   "metadata": {},
   "outputs": [
    {
     "data": {
      "image/png": "[encoded data removed]",
      "text/plain": [
       "<Figure size 1000x600 with 1 Axes>"
      ]
     },
     "metadata": {},
     "output_type": "display_data"
    }
   ],
   "source": [
    "fig, ax = plt.subplots(figsize=(10, 6))\n",
    "survival_rate = train.groupby(['Pclass', 'Sex'])['Survived'].mean().unstack()\n",
    "survival_rate.plot(kind='bar', stacked=True, colormap='coolwarm', ax=ax)\n",
    "\n",
    "plt.title(\"Taux de survie par classe et sexe\", fontweight = 'bold', color = 'green')\n",
    "plt.xlabel(\"Classe\")\n",
    "plt.ylabel(\"Taux de survie\")\n",
    "plt.legend(title=\"Sexe\")\n",
    "plt.xticks(rotation=0, ha='center')\n",
    "#plt.grid(True)\n",
    "plt.tight_layout()\n",
    "plt.show()"
   ]
  },
  {
   "cell_type": "markdown",
   "id": "b9a820a1-17a2-4b68-8681-f109f5fc19a1",
   "metadata": {},
   "source": [
    "---"
   ]
  },
  {
   "cell_type": "markdown",
   "id": "31d4fc6c-c56e-4ddb-8688-4fb2fc1c4b1f",
   "metadata": {},
   "source": [
    "### <span style=\"color: #2e6f40\"><span style='font-family:\"Times New Roman\"'> <span styel=''>**a) <ins>Conclusion sur les résultats obtenus sur le graphique subplots:**</ins></span></span>\n",
    "\n",
    "*Le graphique montre le taux de survie des passagers du Titanic, distingué par classe (Pclass) et sexe (Sex).*\n",
    "\n",
    "- Les passagers de première classe (Pclass=1) ont un taux de survie plus élevé, particulièrement les femmes, qui représentent une proportion significativement plus grande des survivants par rapport aux hommes. Ce taux est probablement lié à des priorités d'évacuation favorisant les femmes et les enfants dans les premières classes.\n",
    "\n",
    "- Les passagers de deuxième classe (Pclass=2) ont un taux de survie moins élevé que ceux de première classe, mais celui-ci est toujours plus élevé pour les femmes que pour les hommes, bien que la différence soit moins marquée que dans la première classe.\n",
    "\n",
    "- Les passagers de troisième classe (Pclass=3) ont un taux de survie beaucoup plus faible. Les hommes de troisième classe ont les taux de survie les plus bas, tandis que les femmes, bien que survivantes dans une proportion plus élevée, ont un taux de survie qui reste relativement bas par rapport aux autres classes.\n",
    "\n",
    "En résumé, la classe sociale et le sexe jouent un rôle important dans les chances de survie, avec les femmes de première classe ayant les meilleures chances. Les hommes, particulièrement ceux de troisième classe, avaient les plus faibles chances de survie.\n",
    "\n",
    "**Soulignons que le taux de survie est calculé en fonction de ces deux critères, ce qui permet de mieux comprendre comment ces facteurs ont influencé les chances de survie pendant la tragédie du Titanic.**"
   ]
  },
  {
   "cell_type": "markdown",
   "id": "8b9e1b2f-68ee-45c9-beb0-5908743193fa",
   "metadata": {},
   "source": [
    "---"
   ]
  },
  {
   "cell_type": "markdown",
   "id": "80653892-b5fc-4816-934e-b0a7d713582a",
   "metadata": {},
   "source": [
    "## <span style=\"color: darkblue\"><span style='font-family:\"Times New Roman\"'> <span styel=''>**2. <ins>Graphique de distribution des âges**</ins></span></span>"
   ]
  },
  {
   "cell_type": "code",
   "execution_count": 105,
   "id": "506f95a1-89df-4ed6-b106-15ab5961db13",
   "metadata": {},
   "outputs": [
    {
     "data": {
      "image/png": "[encoded data removed]",
      "text/plain": [
       "<Figure size 1000x600 with 1 Axes>"
      ]
     },
     "metadata": {},
     "output_type": "display_data"
    }
   ],
   "source": [
    "plt.figure(figsize=(10, 6))\n",
    "sns.kdeplot(train.loc[train['Survived'] == 1, 'Age'], fill=True, label=\"Survivants\", color=\"green\")\n",
    "sns.kdeplot(train.loc[train['Survived'] == 0, 'Age'], fill=True, label=\"Non-survivants\", color=\"red\")\n",
    "plt.title(\"Distribution des âges : Survivants vs Non-survivants\", fontweight = 'bold', color = 'green')\n",
    "plt.xlabel(\"Âge\")\n",
    "plt.ylabel(\"Densité (proportion par unité d'âge)\")\n",
    "plt.legend(title=\"Statut\")\n",
    "\n",
    "# Limiter l'axe X à une plage réaliste\n",
    "plt.xlim(0, train['Age'].max() + 5)\n",
    "plt.grid(True)\n",
    "plt.tight_layout()\n",
    "plt.show()"
   ]
  },
  {
   "cell_type": "markdown",
   "id": "82ffd49d-eed7-414e-be4d-28c01de96619",
   "metadata": {},
   "source": [
    "---"
   ]
  },
  {
   "cell_type": "markdown",
   "id": "d431db6d-f281-4b20-aa5e-f891f5def03f",
   "metadata": {},
   "source": [
    "### <span style=\"color: #2e6f40\"><span style='font-family:\"Times New Roman\"'> <span styel=''>**b) <ins>Conclusion sur les résultats obtenus sur le graphique KDE:**</ins></span></span>\n",
    "*Le graphique présente la distribution des âges des survivants et des non-survivants du Titanic sous forme de courbes de densité (KDE), avec deux courbes distinctes :*\n",
    "\n",
    "- Les survivants (en vert) ont une distribution d'âges qui montre une densité plus élevée chez les jeunes adultes et les enfants, avec un pic autour de 20 à 30 ans. Cela suggère qu'un grand nombre de survivants étaient jeunes, probablement en raison des priorités d'évacuation qui favorisaient les femmes et les enfants. On peut aussi observer une plus faible proportion de personnes âgées parmi les survivants.\n",
    "\n",
    "- Les non-survivants (en rouge) ont une courbe de densité qui montre une proportion plus élevée de personnes plus âgées, bien que la distribution soit plus étalée. Cela pourrait refléter des circonstances où les personnes plus âgées avaient moins de chances de survivre, peut-être en raison de l'incapacité d'évacuer ou d'autres facteurs de vulnérabilité.\n",
    "\n",
    "En général, la courbe des survivants est centrée sur des âges plus jeunes, tandis que celle des non-survivants est plus dispersée et montre une plus grande proportion d'adultes plus âgés.\n",
    "\n",
    "**La densité représente la proportion relative des individus par unité d'âge, ce qui permet de comparer plus facilement les groupes en termes de distribution de l'âge. La normalisation des densités (pour que l'aire totale soit égale à 1) permet d'interpréter les courbes comme des distributions de probabilité.**"
   ]
  },
  {
   "cell_type": "markdown",
   "id": "4205eb03-ad77-4a1d-8450-6eb1c0c639d5",
   "metadata": {},
   "source": [
    "---"
   ]
  },
  {
   "cell_type": "markdown",
   "id": "57edab9d-1a19-4359-9e04-47744cd7726d",
   "metadata": {},
   "source": [
    "* ## <span style=\"color: red\"><span style='font-family:\"Times New Roman\"'> <span styel=''>**Points importants à noter :**</span></span></span>\n",
    "\n",
    "    - ### <span style='font-family:\"Times New Roman\"'> <span styel=''>Ce modèle servira de baseline</span></span>\n",
    "    - ### <span style='font-family:\"Times New Roman\"'> <span styel=''>Il nous permet de comprendre le taux de survie réel</span></span>\n",
    "    - ### <span style='font-family:\"Times New Roman\"'> <span styel=''>La précision sera probablement très basse (car tout le monde est prédit comme non survivant)</span></span>"
   ]
  },
  {
   "cell_type": "markdown",
   "id": "9c442853-ab10-418d-9226-0f4b489712a0",
   "metadata": {},
   "source": [
    "<span style=\"color: #2e6f40\">//////////////////////////////////////////////////////////////////////////////////////////////////////////////////////////////////////////////////////////////////////////////////////////////////////////</span>"
   ]
  },
  {
   "cell_type": "markdown",
   "id": "8c4f751a-8dac-414c-a89f-f8144941811c",
   "metadata": {},
   "source": [
    "# <span style=\"color: darkred\"><span style='font-family:\"Times New Roman\"'> <span styel=''>**3) <ins>ITERATION 1**</ins></span></span>\n",
    "* ## <span style=\"color: darkblue\"><span style='font-family:\"Times New Roman\"'> <span styel=''>**a) Feature de base :**</span></span>\n",
    "    - ### <span style='font-family:\"Times New Roman\"'> <span styel=''>**classe**</span>\n",
    "    - ### <span style='font-family:\"Times New Roman\"'> <span styel=''>**sexe**</span>\n",
    "    - ### <span style='font-family:\"Times New Roman\"'> <span styel=''>**âge**</span>\n",
    "* ## <span style=\"color: darkblue\"><span style='font-family:\"Times New Roman\"'> <span styel=''>**b) Première modélisation**</span></span>\n",
    "* ## <span style=\"color: darkblue\"><span style='font-family:\"Times New Roman\"'> <span styel=''>**c) Amelioration du score**</span></span>"
   ]
  },
  {
   "cell_type": "markdown",
   "id": "04c2055d-22bb-450a-916c-1a879d2269bd",
   "metadata": {},
   "source": [
    "* ## ⚠️ <span style=\"color: red\"><span style='font-family:\"Times New Roman\"'> <span styel=''>**Ce script fait plusieurs choses :**\n",
    "\n",
    "    - ###  <span style='font-family:\"Times New Roman\"'> <span styel=''><span style='font-family:\"Times New Roman\"'> <span styel=''>Prétraitement des données</span></span>\n",
    "        - <span style='font-family:\"Times New Roman\"'> <span styel=''><span style='font-family:\"Times New Roman\"'> <span styel=''>Encodage des variables catégorielles</span></span>\n",
    "        - <span style='font-family:\"Times New Roman\"'> <span styel=''><span style='font-family:\"Times New Roman\"'> <span styel=''>Gestion des valeurs manquantes</span></span>\n",
    "        - <span style='font-family:\"Times New Roman\"'> <span styel=''><span style='font-family:\"Times New Roman\"'> <span styel=''>Mise à l'échelle des features</span></span>\n",
    "  \n",
    "    * ### <span style='font-family:\"Times New Roman\"'> <span styel=''>Modèle de régression logistique</span></span>\n",
    "        - <span style='font-family:\"Times New Roman\"'> <span styel=''>Entraînement sur une partie des données</span></span>\n",
    "        - <span style='font-family:\"Times New Roman\"'> <span styel=''>Validation sur un autre ensemble</span></span>\n",
    "        - <span style='font-family:\"Times New Roman\"'> <span styel=''>Calcul de la précision</span></span>\n",
    "\n",
    "    * ### <span style='font-family:\"Times New Roman\"'> <span styel=''>Analyse des résultats</span></span>\n",
    "        - <span style='font-family:\"Times New Roman\"'> <span styel=''>Importance des features</span></span>\n",
    "        - <span style='font-family:\"Times New Roman\"'> <span styel=''>Taux de survie par classe et sexe</span></span>\n",
    "        \n",
    "    * ### <span style='font-family:\"Times New Roman\"'> <span styel=''>Génération d'un fichier de soumission Kaggle</span></span>"
   ]
  },
  {
   "cell_type": "markdown",
   "id": "15a9aed1-d03c-4641-94a3-ad720e93dea8",
   "metadata": {
    "jp-MarkdownHeadingCollapsed": true
   },
   "source": [
    "<span style=\"color: #2e6f40\"><span style='font-family:\"Times New Roman\"'> <span styel=''><ins>**Prétraitement des données**</ins></span></span>"
   ]
  },
  {
   "cell_type": "code",
   "execution_count": 106,
   "id": "19a37de3-7852-4895-8a8b-2333db21ab94",
   "metadata": {},
   "outputs": [],
   "source": [
    "def preprocess_data(df, is_train=True):\n",
    "    # Sélection des features\n",
    "    features = ['Pclass', 'Sex', 'Age', 'SibSp', 'Parch', 'Fare', 'Embarked']\n",
    "    \n",
    "    # Copie du dataframe\n",
    "    data = df.copy()\n",
    "    \n",
    "    # Encodage des variables catégorielles\n",
    "    le = LabelEncoder()\n",
    "    data['Sex'] = le.fit_transform(data['Sex'])\n",
    "    data['Embarked'] = le.fit_transform(data['Embarked'].fillna(data['Embarked'].mode()[0]))\n",
    "    \n",
    "    # Imputation des valeurs manquantes\n",
    "    imputer = SimpleImputer(strategy='median')\n",
    "    X = data[features]\n",
    "    X = pd.DataFrame(imputer.fit_transform(X), columns=features)\n",
    "    \n",
    "    if is_train:\n",
    "        y = data['Survived']\n",
    "        return X, y\n",
    "    return X"
   ]
  },
  {
   "cell_type": "markdown",
   "id": "3473ab6d-9082-41f6-9094-cf4725324795",
   "metadata": {},
   "source": [
    "### 🚧🚧🚧 <span style='background:yellow'><span style=\"color:orange\"> ***Ici il y aura une explication du bloc***</span></span> 🚧🚧🚧"
   ]
  },
  {
   "cell_type": "markdown",
   "id": "2971e069-1ec8-4edf-a451-e8919ec5898d",
   "metadata": {},
   "source": [
    "---"
   ]
  },
  {
   "cell_type": "markdown",
   "id": "dcbf4898-5113-4b6c-bae9-f2964bda2e82",
   "metadata": {},
   "source": [
    "<span style=\"color: #2e6f40\"><span style='font-family:\"Times New Roman\"'> <span styel=''><ins>**Préparer les données d'entraînement**</ins></span></span>"
   ]
  },
  {
   "cell_type": "code",
   "execution_count": 107,
   "id": "b61aafd8-bbec-4f0c-8f0f-884d8cf70cc0",
   "metadata": {},
   "outputs": [],
   "source": [
    "X_train, y_train = preprocess_data(train)"
   ]
  },
  {
   "cell_type": "markdown",
   "id": "5c88081c-0c2e-4f29-ac80-5fec21aa67e5",
   "metadata": {},
   "source": [
    "### 🚧🚧🚧 <span style='background:yellow'><span style=\"color:orange\"> ***Ici il y aura une explication du bloc***</span></span> 🚧🚧🚧"
   ]
  },
  {
   "cell_type": "markdown",
   "id": "3906535e-e495-40b8-b8ed-6d47bb02c9fe",
   "metadata": {},
   "source": [
    "---"
   ]
  },
  {
   "cell_type": "markdown",
   "id": "cb065744-5fe6-457c-be80-e5d2beb0a8e1",
   "metadata": {},
   "source": [
    "<span style=\"color: #2e6f40\"><span style='font-family:\"Times New Roman\"'> <span styel=''><ins>**Division en sets d'entraînement et de validation**</ins></span></span>"
   ]
  },
  {
   "cell_type": "code",
   "execution_count": 108,
   "id": "29c30031-f598-40b2-ab7d-d0acfb818747",
   "metadata": {},
   "outputs": [],
   "source": [
    "X_train, X_val, y_train, y_val = train_test_split(X_train, y_train, test_size=0.2, random_state=42, stratify=y_train)\n"
   ]
  },
  {
   "cell_type": "markdown",
   "id": "a113c11d-50ab-461a-aa98-f07cacec1bc1",
   "metadata": {},
   "source": [
    "### 🚧🚧🚧 <span style='background:yellow'><span style=\"color:orange\"> ***Ici il y aura une explication du bloc***</span></span> 🚧🚧🚧"
   ]
  },
  {
   "cell_type": "markdown",
   "id": "676bb79d-0f14-4fb0-b3c6-d6f5099d8348",
   "metadata": {},
   "source": [
    "---"
   ]
  },
  {
   "cell_type": "markdown",
   "id": "e1717514-23e9-44d8-9606-1f16f34fba89",
   "metadata": {},
   "source": [
    "<span style=\"color: #2e6f40\"><span style='font-family:\"Times New Roman\"'> <span styel=''><ins>**Mise à l'échelle des features**</ins></span></span>"
   ]
  },
  {
   "cell_type": "code",
   "execution_count": 109,
   "id": "d47feaee-32b5-400c-81d3-ddec12b9a29c",
   "metadata": {},
   "outputs": [],
   "source": [
    "scaler = StandardScaler()\n",
    "X_train_scaled = scaler.fit_transform(X_train)\n",
    "X_val_scaled = scaler.transform(X_val)\n"
   ]
  },
  {
   "cell_type": "markdown",
   "id": "c2e258c0-b749-4ec5-9583-88e70cfdb292",
   "metadata": {},
   "source": [
    "### 🚧🚧🚧 <span style='background:yellow'><span style=\"color:orange\"> ***Ici il y aura une explication du bloc***</span></span> 🚧🚧🚧"
   ]
  },
  {
   "cell_type": "markdown",
   "id": "9b265994-4338-4707-9039-901c0e376171",
   "metadata": {},
   "source": [
    "---"
   ]
  },
  {
   "cell_type": "markdown",
   "id": "b9670987-d040-454a-951b-c8c5fb0aba33",
   "metadata": {},
   "source": [
    "<span style=\"color: #2e6f40\"><span style='font-family:\"Times New Roman\"'> <span styel=''><ins>**Entraînement du modèle de régression logistique**</ins></span></span>"
   ]
  },
  {
   "cell_type": "code",
   "execution_count": 110,
   "id": "b6f73d53-ce3c-48e2-95d8-70a633aa0af3",
   "metadata": {},
   "outputs": [
    {
     "data": {
      "text/html": [
       "<style>#sk-container-id-3 {\n",
       "  /* Definition of color scheme common for light and dark mode */\n",
       "  --sklearn-color-text: #000;\n",
       "  --sklearn-color-text-muted: #666;\n",
       "  --sklearn-color-line: gray;\n",
       "  /* Definition of color scheme for unfitted estimators */\n",
       "  --sklearn-color-unfitted-level-0: #fff5e6;\n",
       "  --sklearn-color-unfitted-level-1: #f6e4d2;\n",
       "  --sklearn-color-unfitted-level-2: #ffe0b3;\n",
       "  --sklearn-color-unfitted-level-3: chocolate;\n",
       "  /* Definition of color scheme for fitted estimators */\n",
       "  --sklearn-color-fitted-level-0: #f0f8ff;\n",
       "  --sklearn-color-fitted-level-1: #d4ebff;\n",
       "  --sklearn-color-fitted-level-2: #b3dbfd;\n",
       "  --sklearn-color-fitted-level-3: cornflowerblue;\n",
       "\n",
       "  /* Specific color for light theme */\n",
       "  --sklearn-color-text-on-default-background: var(--sg-text-color, var(--theme-code-foreground, var(--jp-content-font-color1, black)));\n",
       "  --sklearn-color-background: var(--sg-background-color, var(--theme-background, var(--jp-layout-color0, white)));\n",
       "  --sklearn-color-border-box: var(--sg-text-color, var(--theme-code-foreground, var(--jp-content-font-color1, black)));\n",
       "  --sklearn-color-icon: #696969;\n",
       "\n",
       "  @media (prefers-color-scheme: dark) {\n",
       "    /* Redefinition of color scheme for dark theme */\n",
       "    --sklearn-color-text-on-default-background: var(--sg-text-color, var(--theme-code-foreground, var(--jp-content-font-color1, white)));\n",
       "    --sklearn-color-background: var(--sg-background-color, var(--theme-background, var(--jp-layout-color0, #111)));\n",
       "    --sklearn-color-border-box: var(--sg-text-color, var(--theme-code-foreground, var(--jp-content-font-color1, white)));\n",
       "    --sklearn-color-icon: #878787;\n",
       "  }\n",
       "}\n",
       "\n",
       "#sk-container-id-3 {\n",
       "  color: var(--sklearn-color-text);\n",
       "}\n",
       "\n",
       "#sk-container-id-3 pre {\n",
       "  padding: 0;\n",
       "}\n",
       "\n",
       "#sk-container-id-3 input.sk-hidden--visually {\n",
       "  border: 0;\n",
       "  clip: rect(1px 1px 1px 1px);\n",
       "  clip: rect(1px, 1px, 1px, 1px);\n",
       "  height: 1px;\n",
       "  margin: -1px;\n",
       "  overflow: hidden;\n",
       "  padding: 0;\n",
       "  position: absolute;\n",
       "  width: 1px;\n",
       "}\n",
       "\n",
       "#sk-container-id-3 div.sk-dashed-wrapped {\n",
       "  border: 1px dashed var(--sklearn-color-line);\n",
       "  margin: 0 0.4em 0.5em 0.4em;\n",
       "  box-sizing: border-box;\n",
       "  padding-bottom: 0.4em;\n",
       "  background-color: var(--sklearn-color-background);\n",
       "}\n",
       "\n",
       "#sk-container-id-3 div.sk-container {\n",
       "  /* jupyter's `normalize.less` sets `[hidden] { display: none; }`\n",
       "     but bootstrap.min.css set `[hidden] { display: none !important; }`\n",
       "     so we also need the `!important` here to be able to override the\n",
       "     default hidden behavior on the sphinx rendered scikit-learn.org.\n",
       "     See: https://github.com/scikit-learn/scikit-learn/issues/21755 */\n",
       "  display: inline-block !important;\n",
       "  position: relative;\n",
       "}\n",
       "\n",
       "#sk-container-id-3 div.sk-text-repr-fallback {\n",
       "  display: none;\n",
       "}\n",
       "\n",
       "div.sk-parallel-item,\n",
       "div.sk-serial,\n",
       "div.sk-item {\n",
       "  /* draw centered vertical line to link estimators */\n",
       "  background-image: linear-gradient(var(--sklearn-color-text-on-default-background), var(--sklearn-color-text-on-default-background));\n",
       "  background-size: 2px 100%;\n",
       "  background-repeat: no-repeat;\n",
       "  background-position: center center;\n",
       "}\n",
       "\n",
       "/* Parallel-specific style estimator block */\n",
       "\n",
       "#sk-container-id-3 div.sk-parallel-item::after {\n",
       "  content: \"\";\n",
       "  width: 100%;\n",
       "  border-bottom: 2px solid var(--sklearn-color-text-on-default-background);\n",
       "  flex-grow: 1;\n",
       "}\n",
       "\n",
       "#sk-container-id-3 div.sk-parallel {\n",
       "  display: flex;\n",
       "  align-items: stretch;\n",
       "  justify-content: center;\n",
       "  background-color: var(--sklearn-color-background);\n",
       "  position: relative;\n",
       "}\n",
       "\n",
       "#sk-container-id-3 div.sk-parallel-item {\n",
       "  display: flex;\n",
       "  flex-direction: column;\n",
       "}\n",
       "\n",
       "#sk-container-id-3 div.sk-parallel-item:first-child::after {\n",
       "  align-self: flex-end;\n",
       "  width: 50%;\n",
       "}\n",
       "\n",
       "#sk-container-id-3 div.sk-parallel-item:last-child::after {\n",
       "  align-self: flex-start;\n",
       "  width: 50%;\n",
       "}\n",
       "\n",
       "#sk-container-id-3 div.sk-parallel-item:only-child::after {\n",
       "  width: 0;\n",
       "}\n",
       "\n",
       "/* Serial-specific style estimator block */\n",
       "\n",
       "#sk-container-id-3 div.sk-serial {\n",
       "  display: flex;\n",
       "  flex-direction: column;\n",
       "  align-items: center;\n",
       "  background-color: var(--sklearn-color-background);\n",
       "  padding-right: 1em;\n",
       "  padding-left: 1em;\n",
       "}\n",
       "\n",
       "\n",
       "/* Toggleable style: style used for estimator/Pipeline/ColumnTransformer box that is\n",
       "clickable and can be expanded/collapsed.\n",
       "- Pipeline and ColumnTransformer use this feature and define the default style\n",
       "- Estimators will overwrite some part of the style using the `sk-estimator` class\n",
       "*/\n",
       "\n",
       "/* Pipeline and ColumnTransformer style (default) */\n",
       "\n",
       "#sk-container-id-3 div.sk-toggleable {\n",
       "  /* Default theme specific background. It is overwritten whether we have a\n",
       "  specific estimator or a Pipeline/ColumnTransformer */\n",
       "  background-color: var(--sklearn-color-background);\n",
       "}\n",
       "\n",
       "/* Toggleable label */\n",
       "#sk-container-id-3 label.sk-toggleable__label {\n",
       "  cursor: pointer;\n",
       "  display: flex;\n",
       "  width: 100%;\n",
       "  margin-bottom: 0;\n",
       "  padding: 0.5em;\n",
       "  box-sizing: border-box;\n",
       "  text-align: center;\n",
       "  align-items: start;\n",
       "  justify-content: space-between;\n",
       "  gap: 0.5em;\n",
       "}\n",
       "\n",
       "#sk-container-id-3 label.sk-toggleable__label .caption {\n",
       "  font-size: 0.6rem;\n",
       "  font-weight: lighter;\n",
       "  color: var(--sklearn-color-text-muted);\n",
       "}\n",
       "\n",
       "#sk-container-id-3 label.sk-toggleable__label-arrow:before {\n",
       "  /* Arrow on the left of the label */\n",
       "  content: \"▸\";\n",
       "  float: left;\n",
       "  margin-right: 0.25em;\n",
       "  color: var(--sklearn-color-icon);\n",
       "}\n",
       "\n",
       "#sk-container-id-3 label.sk-toggleable__label-arrow:hover:before {\n",
       "  color: var(--sklearn-color-text);\n",
       "}\n",
       "\n",
       "/* Toggleable content - dropdown */\n",
       "\n",
       "#sk-container-id-3 div.sk-toggleable__content {\n",
       "  max-height: 0;\n",
       "  max-width: 0;\n",
       "  overflow: hidden;\n",
       "  text-align: left;\n",
       "  /* unfitted */\n",
       "  background-color: var(--sklearn-color-unfitted-level-0);\n",
       "}\n",
       "\n",
       "#sk-container-id-3 div.sk-toggleable__content.fitted {\n",
       "  /* fitted */\n",
       "  background-color: var(--sklearn-color-fitted-level-0);\n",
       "}\n",
       "\n",
       "#sk-container-id-3 div.sk-toggleable__content pre {\n",
       "  margin: 0.2em;\n",
       "  border-radius: 0.25em;\n",
       "  color: var(--sklearn-color-text);\n",
       "  /* unfitted */\n",
       "  background-color: var(--sklearn-color-unfitted-level-0);\n",
       "}\n",
       "\n",
       "#sk-container-id-3 div.sk-toggleable__content.fitted pre {\n",
       "  /* unfitted */\n",
       "  background-color: var(--sklearn-color-fitted-level-0);\n",
       "}\n",
       "\n",
       "#sk-container-id-3 input.sk-toggleable__control:checked~div.sk-toggleable__content {\n",
       "  /* Expand drop-down */\n",
       "  max-height: 200px;\n",
       "  max-width: 100%;\n",
       "  overflow: auto;\n",
       "}\n",
       "\n",
       "#sk-container-id-3 input.sk-toggleable__control:checked~label.sk-toggleable__label-arrow:before {\n",
       "  content: \"▾\";\n",
       "}\n",
       "\n",
       "/* Pipeline/ColumnTransformer-specific style */\n",
       "\n",
       "#sk-container-id-3 div.sk-label input.sk-toggleable__control:checked~label.sk-toggleable__label {\n",
       "  color: var(--sklearn-color-text);\n",
       "  background-color: var(--sklearn-color-unfitted-level-2);\n",
       "}\n",
       "\n",
       "#sk-container-id-3 div.sk-label.fitted input.sk-toggleable__control:checked~label.sk-toggleable__label {\n",
       "  background-color: var(--sklearn-color-fitted-level-2);\n",
       "}\n",
       "\n",
       "/* Estimator-specific style */\n",
       "\n",
       "/* Colorize estimator box */\n",
       "#sk-container-id-3 div.sk-estimator input.sk-toggleable__control:checked~label.sk-toggleable__label {\n",
       "  /* unfitted */\n",
       "  background-color: var(--sklearn-color-unfitted-level-2);\n",
       "}\n",
       "\n",
       "#sk-container-id-3 div.sk-estimator.fitted input.sk-toggleable__control:checked~label.sk-toggleable__label {\n",
       "  /* fitted */\n",
       "  background-color: var(--sklearn-color-fitted-level-2);\n",
       "}\n",
       "\n",
       "#sk-container-id-3 div.sk-label label.sk-toggleable__label,\n",
       "#sk-container-id-3 div.sk-label label {\n",
       "  /* The background is the default theme color */\n",
       "  color: var(--sklearn-color-text-on-default-background);\n",
       "}\n",
       "\n",
       "/* On hover, darken the color of the background */\n",
       "#sk-container-id-3 div.sk-label:hover label.sk-toggleable__label {\n",
       "  color: var(--sklearn-color-text);\n",
       "  background-color: var(--sklearn-color-unfitted-level-2);\n",
       "}\n",
       "\n",
       "/* Label box, darken color on hover, fitted */\n",
       "#sk-container-id-3 div.sk-label.fitted:hover label.sk-toggleable__label.fitted {\n",
       "  color: var(--sklearn-color-text);\n",
       "  background-color: var(--sklearn-color-fitted-level-2);\n",
       "}\n",
       "\n",
       "/* Estimator label */\n",
       "\n",
       "#sk-container-id-3 div.sk-label label {\n",
       "  font-family: monospace;\n",
       "  font-weight: bold;\n",
       "  display: inline-block;\n",
       "  line-height: 1.2em;\n",
       "}\n",
       "\n",
       "#sk-container-id-3 div.sk-label-container {\n",
       "  text-align: center;\n",
       "}\n",
       "\n",
       "/* Estimator-specific */\n",
       "#sk-container-id-3 div.sk-estimator {\n",
       "  font-family: monospace;\n",
       "  border: 1px dotted var(--sklearn-color-border-box);\n",
       "  border-radius: 0.25em;\n",
       "  box-sizing: border-box;\n",
       "  margin-bottom: 0.5em;\n",
       "  /* unfitted */\n",
       "  background-color: var(--sklearn-color-unfitted-level-0);\n",
       "}\n",
       "\n",
       "#sk-container-id-3 div.sk-estimator.fitted {\n",
       "  /* fitted */\n",
       "  background-color: var(--sklearn-color-fitted-level-0);\n",
       "}\n",
       "\n",
       "/* on hover */\n",
       "#sk-container-id-3 div.sk-estimator:hover {\n",
       "  /* unfitted */\n",
       "  background-color: var(--sklearn-color-unfitted-level-2);\n",
       "}\n",
       "\n",
       "#sk-container-id-3 div.sk-estimator.fitted:hover {\n",
       "  /* fitted */\n",
       "  background-color: var(--sklearn-color-fitted-level-2);\n",
       "}\n",
       "\n",
       "/* Specification for estimator info (e.g. \"i\" and \"?\") */\n",
       "\n",
       "/* Common style for \"i\" and \"?\" */\n",
       "\n",
       ".sk-estimator-doc-link,\n",
       "a:link.sk-estimator-doc-link,\n",
       "a:visited.sk-estimator-doc-link {\n",
       "  float: right;\n",
       "  font-size: smaller;\n",
       "  line-height: 1em;\n",
       "  font-family: monospace;\n",
       "  background-color: var(--sklearn-color-background);\n",
       "  border-radius: 1em;\n",
       "  height: 1em;\n",
       "  width: 1em;\n",
       "  text-decoration: none !important;\n",
       "  margin-left: 0.5em;\n",
       "  text-align: center;\n",
       "  /* unfitted */\n",
       "  border: var(--sklearn-color-unfitted-level-1) 1pt solid;\n",
       "  color: var(--sklearn-color-unfitted-level-1);\n",
       "}\n",
       "\n",
       ".sk-estimator-doc-link.fitted,\n",
       "a:link.sk-estimator-doc-link.fitted,\n",
       "a:visited.sk-estimator-doc-link.fitted {\n",
       "  /* fitted */\n",
       "  border: var(--sklearn-color-fitted-level-1) 1pt solid;\n",
       "  color: var(--sklearn-color-fitted-level-1);\n",
       "}\n",
       "\n",
       "/* On hover */\n",
       "div.sk-estimator:hover .sk-estimator-doc-link:hover,\n",
       ".sk-estimator-doc-link:hover,\n",
       "div.sk-label-container:hover .sk-estimator-doc-link:hover,\n",
       ".sk-estimator-doc-link:hover {\n",
       "  /* unfitted */\n",
       "  background-color: var(--sklearn-color-unfitted-level-3);\n",
       "  color: var(--sklearn-color-background);\n",
       "  text-decoration: none;\n",
       "}\n",
       "\n",
       "div.sk-estimator.fitted:hover .sk-estimator-doc-link.fitted:hover,\n",
       ".sk-estimator-doc-link.fitted:hover,\n",
       "div.sk-label-container:hover .sk-estimator-doc-link.fitted:hover,\n",
       ".sk-estimator-doc-link.fitted:hover {\n",
       "  /* fitted */\n",
       "  background-color: var(--sklearn-color-fitted-level-3);\n",
       "  color: var(--sklearn-color-background);\n",
       "  text-decoration: none;\n",
       "}\n",
       "\n",
       "/* Span, style for the box shown on hovering the info icon */\n",
       ".sk-estimator-doc-link span {\n",
       "  display: none;\n",
       "  z-index: 9999;\n",
       "  position: relative;\n",
       "  font-weight: normal;\n",
       "  right: .2ex;\n",
       "  padding: .5ex;\n",
       "  margin: .5ex;\n",
       "  width: min-content;\n",
       "  min-width: 20ex;\n",
       "  max-width: 50ex;\n",
       "  color: var(--sklearn-color-text);\n",
       "  box-shadow: 2pt 2pt 4pt #999;\n",
       "  /* unfitted */\n",
       "  background: var(--sklearn-color-unfitted-level-0);\n",
       "  border: .5pt solid var(--sklearn-color-unfitted-level-3);\n",
       "}\n",
       "\n",
       ".sk-estimator-doc-link.fitted span {\n",
       "  /* fitted */\n",
       "  background: var(--sklearn-color-fitted-level-0);\n",
       "  border: var(--sklearn-color-fitted-level-3);\n",
       "}\n",
       "\n",
       ".sk-estimator-doc-link:hover span {\n",
       "  display: block;\n",
       "}\n",
       "\n",
       "/* \"?\"-specific style due to the `<a>` HTML tag */\n",
       "\n",
       "#sk-container-id-3 a.estimator_doc_link {\n",
       "  float: right;\n",
       "  font-size: 1rem;\n",
       "  line-height: 1em;\n",
       "  font-family: monospace;\n",
       "  background-color: var(--sklearn-color-background);\n",
       "  border-radius: 1rem;\n",
       "  height: 1rem;\n",
       "  width: 1rem;\n",
       "  text-decoration: none;\n",
       "  /* unfitted */\n",
       "  color: var(--sklearn-color-unfitted-level-1);\n",
       "  border: var(--sklearn-color-unfitted-level-1) 1pt solid;\n",
       "}\n",
       "\n",
       "#sk-container-id-3 a.estimator_doc_link.fitted {\n",
       "  /* fitted */\n",
       "  border: var(--sklearn-color-fitted-level-1) 1pt solid;\n",
       "  color: var(--sklearn-color-fitted-level-1);\n",
       "}\n",
       "\n",
       "/* On hover */\n",
       "#sk-container-id-3 a.estimator_doc_link:hover {\n",
       "  /* unfitted */\n",
       "  background-color: var(--sklearn-color-unfitted-level-3);\n",
       "  color: var(--sklearn-color-background);\n",
       "  text-decoration: none;\n",
       "}\n",
       "\n",
       "#sk-container-id-3 a.estimator_doc_link.fitted:hover {\n",
       "  /* fitted */\n",
       "  background-color: var(--sklearn-color-fitted-level-3);\n",
       "}\n",
       "</style><div id=\"sk-container-id-3\" class=\"sk-top-container\"><div class=\"sk-text-repr-fallback\"><pre>LogisticRegression(max_iter=1000, random_state=42)</pre><b>In a Jupyter environment, please rerun this cell to show the HTML representation or trust the notebook. <br />On GitHub, the HTML representation is unable to render, please try loading this page with nbviewer.org.</b></div><div class=\"sk-container\" hidden><div class=\"sk-item\"><div class=\"sk-estimator fitted sk-toggleable\"><input class=\"sk-toggleable__control sk-hidden--visually\" id=\"sk-estimator-id-3\" type=\"checkbox\" checked><label for=\"sk-estimator-id-3\" class=\"sk-toggleable__label fitted sk-toggleable__label-arrow\"><div><div>LogisticRegression</div></div><div><a class=\"sk-estimator-doc-link fitted\" rel=\"noreferrer\" target=\"_blank\" href=\"https://scikit-learn.org/1.6/modules/generated/sklearn.linear_model.LogisticRegression.html\">?<span>Documentation for LogisticRegression</span></a><span class=\"sk-estimator-doc-link fitted\">i<span>Fitted</span></span></div></label><div class=\"sk-toggleable__content fitted\"><pre>LogisticRegression(max_iter=1000, random_state=42)</pre></div> </div></div></div></div>"
      ],
      "text/plain": [
       "LogisticRegression(max_iter=1000, random_state=42)"
      ]
     },
     "execution_count": 110,
     "metadata": {},
     "output_type": "execute_result"
    }
   ],
   "source": [
    "model_logreg = LogisticRegression(random_state=42, max_iter=1000)\n",
    "model_logreg.fit(X_train_scaled, y_train)"
   ]
  },
  {
   "cell_type": "markdown",
   "id": "a298576f-f6de-424f-920a-0f78a2d5e064",
   "metadata": {},
   "source": [
    "### 🚧🚧🚧 <span style='background:yellow'><span style=\"color:orange\"> ***Ici il y aura une explication du bloc***</span></span> 🚧🚧🚧"
   ]
  },
  {
   "cell_type": "markdown",
   "id": "9a6ae6dd-e145-4db4-8cc8-50c3bdd876d3",
   "metadata": {},
   "source": [
    "---"
   ]
  },
  {
   "cell_type": "markdown",
   "id": "f82cfe4a-7065-41d4-9549-67176cb3ef3a",
   "metadata": {},
   "source": [
    "<span style=\"color: #2e6f40\"><span style='font-family:\"Times New Roman\"'> <span styel=''><ins>**Prédictions et évaluation**</ins></span></span>"
   ]
  },
  {
   "cell_type": "code",
   "execution_count": 111,
   "id": "2aa3c87d-f792-4402-b698-6544353c94b0",
   "metadata": {},
   "outputs": [],
   "source": [
    "y_pred_logreg = model_logreg.predict(X_val_scaled)\n",
    "accuracy_logreg = accuracy_score(y_val, y_pred_logreg)"
   ]
  },
  {
   "cell_type": "code",
   "execution_count": 112,
   "id": "33aa139e-232b-4d51-855d-4ce7dcca5c1d",
   "metadata": {},
   "outputs": [
    {
     "name": "stdout",
     "output_type": "stream",
     "text": [
      "\n",
      "Résultats du modèle de Régression Logistique :\n",
      "Précision : 79.89%\n",
      "\n",
      "Rapport de classification :\n",
      "              precision    recall  f1-score   support\n",
      "\n",
      "           0       0.81      0.88      0.84       110\n",
      "           1       0.78      0.67      0.72        69\n",
      "\n",
      "    accuracy                           0.80       179\n",
      "   macro avg       0.79      0.77      0.78       179\n",
      "weighted avg       0.80      0.80      0.80       179\n",
      "\n"
     ]
    }
   ],
   "source": [
    "print(\"\\nRésultats du modèle de Régression Logistique :\")\n",
    "print(f\"Précision : {accuracy_logreg:.2%}\")\n",
    "print(\"\\nRapport de classification :\")\n",
    "print(classification_report(y_val, y_pred_logreg))"
   ]
  },
  {
   "cell_type": "markdown",
   "id": "82b5e146-739c-4763-b183-08be3d5df2bb",
   "metadata": {},
   "source": [
    "### 🚧🚧🚧 <span style='background:yellow'><span style=\"color:orange\"> ***Ici il y aura une explication du bloc***</span></span> 🚧🚧🚧"
   ]
  },
  {
   "cell_type": "markdown",
   "id": "37e2dd45-c861-4bab-b736-d04b722b99da",
   "metadata": {},
   "source": [
    "---"
   ]
  },
  {
   "cell_type": "markdown",
   "id": "cf81395c-9b8d-4687-8315-3c39dcbb86be",
   "metadata": {},
   "source": [
    "<span style=\"color: #2e6f40\"><span style='font-family:\"Times New Roman\"'> <span styel=''><ins>**Importance des features**</ins></span></span>"
   ]
  },
  {
   "cell_type": "code",
   "execution_count": 113,
   "id": "100aed18-9442-4415-92fa-a7de8276b27d",
   "metadata": {},
   "outputs": [],
   "source": [
    "#feature_names = ['Pclass', 'Sex', 'Age', 'SibSp', 'Parch', 'Fare', 'Embarked']\n",
    "\n",
    "#feature_importance = pd.DataFrame({\n",
    " #   'feature': X_train.columns,\n",
    "  #  'importance': np.abs(model.coef_[0])\n",
    "#})"
   ]
  },
  {
   "cell_type": "code",
   "execution_count": 114,
   "id": "e475f27b-8c85-4121-996c-b62ca7f063ab",
   "metadata": {},
   "outputs": [],
   "source": [
    "#print(\"\\nImportance des features :\")\n",
    "#print(feature_importance.sort_values('importance', ascending=False))"
   ]
  },
  {
   "cell_type": "markdown",
   "id": "80536c83-1f8c-4af9-bd3a-8ee5807f59b2",
   "metadata": {},
   "source": [
    "### 🚧🚧🚧 <span style='background:yellow'><span style=\"color:orange\"> ***Ici il y aura une explication du bloc***</span></span> 🚧🚧🚧"
   ]
  },
  {
   "cell_type": "markdown",
   "id": "2ed70643-88fb-423d-acbc-91bd75c9d762",
   "metadata": {},
   "source": [
    "---"
   ]
  },
  {
   "cell_type": "markdown",
   "id": "f0a6833b-97eb-4731-bba1-f4dfa87d6c65",
   "metadata": {},
   "source": [
    "<span style=\"color: #2e6f40\"><span style='font-family:\"Times New Roman\"'> <span styel=''><ins>**Prédictions sur le jeu de test**</ins></span></span>"
   ]
  },
  {
   "cell_type": "code",
   "execution_count": 115,
   "id": "90cafdf0-3a4e-4fba-a57f-0c85087c22ea",
   "metadata": {},
   "outputs": [],
   "source": [
    "#X_test = preprocess_data(test, is_train=False)\n",
    "#X_test_scaled = scaler.transform(X_test)\n",
    "#test_predictions = model.predict(X_test_scaled)"
   ]
  },
  {
   "cell_type": "markdown",
   "id": "84610f25-d6ec-4e0a-9d8e-c6a8cedb19fb",
   "metadata": {},
   "source": [
    "### 🚧🚧🚧 <span style='background:yellow'><span style=\"color:orange\"> ***Ici il y aura une explication du bloc***</span></span> 🚧🚧🚧"
   ]
  },
  {
   "cell_type": "markdown",
   "id": "f0156d3b-104b-43af-9a09-8c114cdb0569",
   "metadata": {},
   "source": [
    "---"
   ]
  },
  {
   "cell_type": "markdown",
   "id": "acf420f8-88fe-49b0-bba7-2099cff53602",
   "metadata": {},
   "source": [
    "<span style=\"color: #2e6f40\"><span style='font-family:\"Times New Roman\"'> <span styel=''><ins>**Création du fichier de soumission**</ins></span></span>"
   ]
  },
  {
   "cell_type": "code",
   "execution_count": 116,
   "id": "e0ba2270-de21-4558-a50a-1ec0dc1bdd24",
   "metadata": {},
   "outputs": [],
   "source": [
    "#submission = pd.DataFrame({\n",
    " #   'PassengerId': test['PassengerId'],\n",
    "  #  'Survived': test_predictions\n",
    "#})"
   ]
  },
  {
   "cell_type": "code",
   "execution_count": 117,
   "id": "c15e2d06-25fc-449b-a309-6d8c2982a224",
   "metadata": {},
   "outputs": [],
   "source": [
    "#submission.to_csv('data/logistic_regression_submission.csv', index=False)"
   ]
  },
  {
   "cell_type": "markdown",
   "id": "a63139df-9488-4de0-995e-f1a09041378f",
   "metadata": {},
   "source": [
    "### 🚧🚧🚧 <span style='background:yellow'><span style=\"color:orange\"> ***Ici il y aura une explication du bloc***</span></span> 🚧🚧🚧"
   ]
  },
  {
   "cell_type": "markdown",
   "id": "30675ab9-5b74-4a8f-85dc-bf6b651e22d6",
   "metadata": {},
   "source": [
    "---"
   ]
  },
  {
   "cell_type": "markdown",
   "id": "d9ae1724-06b1-4d36-a028-fdff01e078f3",
   "metadata": {},
   "source": [
    "<span style=\"color: #2e6f40\"><span style='font-family:\"Times New Roman\"'> <span styel=''><ins>**Analyse exploratoire rapide**</ins></span></span>"
   ]
  },
  {
   "cell_type": "code",
   "execution_count": 118,
   "id": "0ba12f15-25f6-42c2-8f23-23b17b8cde1a",
   "metadata": {},
   "outputs": [
    {
     "name": "stdout",
     "output_type": "stream",
     "text": [
      "\n",
      "Analyse des survivants par classe :\n",
      "Pclass\n",
      "1    0.629630\n",
      "2    0.472826\n",
      "3    0.242363\n",
      "Name: Survived, dtype: float64\n"
     ]
    }
   ],
   "source": [
    "print(\"\\nAnalyse des survivants par classe :\")\n",
    "survival_by_class = train.groupby('Pclass')['Survived'].mean()\n",
    "print(survival_by_class)"
   ]
  },
  {
   "cell_type": "markdown",
   "id": "7df54cd1-4fee-40fe-9281-a1aa90dc1b8f",
   "metadata": {},
   "source": [
    "### 🚧🚧🚧 <span style='background:yellow'><span style=\"color:orange\"> ***Ici il y aura une explication du bloc***</span></span> 🚧🚧🚧"
   ]
  },
  {
   "cell_type": "markdown",
   "id": "4cc9e925-24e0-4e9f-9a1e-7437b9eff6b7",
   "metadata": {},
   "source": [
    "---"
   ]
  },
  {
   "cell_type": "code",
   "execution_count": 119,
   "id": "e4d11eca-2d24-406b-9b06-0890461b2839",
   "metadata": {},
   "outputs": [
    {
     "name": "stdout",
     "output_type": "stream",
     "text": [
      "\n",
      "Analyse des survivants par sexe :\n",
      "Sex\n",
      "female    0.742038\n",
      "male      0.188908\n",
      "Name: Survived, dtype: float64\n"
     ]
    }
   ],
   "source": [
    "print(\"\\nAnalyse des survivants par sexe :\")\n",
    "survival_by_sex = train.groupby('Sex')['Survived'].mean()\n",
    "print(survival_by_sex)"
   ]
  },
  {
   "cell_type": "markdown",
   "id": "347f40fe-5e58-49de-bb1c-b88c71cb15c5",
   "metadata": {},
   "source": [
    "### 🚧🚧🚧 <span style='background:yellow'><span style=\"color:orange\"> ***Ici il y aura une explication du bloc***</span></span> 🚧🚧🚧"
   ]
  },
  {
   "cell_type": "markdown",
   "id": "553ba240-4cef-46a0-86c8-15659690ce01",
   "metadata": {},
   "source": [
    "---"
   ]
  },
  {
   "cell_type": "code",
   "execution_count": 120,
   "id": "a33a5aa4-a423-485d-a292-250f794bcca1",
   "metadata": {},
   "outputs": [
    {
     "name": "stdout",
     "output_type": "stream",
     "text": [
      "\n",
      "Analyse des survivants par age :\n",
      "Age\n",
      "0.42     1.0\n",
      "0.67     1.0\n",
      "0.75     1.0\n",
      "0.83     1.0\n",
      "0.92     1.0\n",
      "        ... \n",
      "70.00    0.0\n",
      "70.50    0.0\n",
      "71.00    0.0\n",
      "74.00    0.0\n",
      "80.00    1.0\n",
      "Name: Survived, Length: 88, dtype: float64\n"
     ]
    }
   ],
   "source": [
    "print(\"\\nAnalyse des survivants par age :\")\n",
    "survival_by_age = train.groupby('Age')['Survived'].mean()\n",
    "print(survival_by_age)"
   ]
  },
  {
   "cell_type": "markdown",
   "id": "e92b088b-607f-4d46-bfa3-6ebe96201d33",
   "metadata": {},
   "source": [
    "### 🚧🚧🚧 <span style='background:yellow'><span style=\"color:orange\"> ***Ici il y aura une explication du bloc***</span></span> 🚧🚧🚧"
   ]
  },
  {
   "cell_type": "markdown",
   "id": "4e8f34b1-4bde-40c8-9c86-e364a2c562d8",
   "metadata": {},
   "source": [
    "---"
   ]
  },
  {
   "cell_type": "markdown",
   "id": "e78e21e3-1ca6-4839-b125-3edf68b96ef9",
   "metadata": {},
   "source": [
    "# <span style=\"color: darkblue\"><span style='font-family:\"Times New Roman\"'> <span styel=''>**1. <ins>Taux de survie par classe**</ins></span></span>"
   ]
  },
  {
   "cell_type": "code",
   "execution_count": 121,
   "id": "e8cb4dcf-e1c1-497a-a618-859be18d6ef1",
   "metadata": {},
   "outputs": [
    {
     "data": {
      "image/png": "[encoded data removed]",
      "text/plain": [
       "<Figure size 1000x600 with 1 Axes>"
      ]
     },
     "metadata": {},
     "output_type": "display_data"
    }
   ],
   "source": [
    "plt.figure(figsize=(10, 6))\n",
    "survival_by_class.plot(kind='bar', color='skyblue', edgecolor='black')\n",
    "plt.title(\"Taux de survie par classe\", fontweight = 'bold', color = 'green')\n",
    "plt.xlabel(\"Classe\")\n",
    "plt.ylabel(\"Taux de survie\")\n",
    "plt.xticks(rotation=0)\n",
    "plt.grid(True)\n",
    "plt.tight_layout()\n",
    "plt.show()\n"
   ]
  },
  {
   "cell_type": "markdown",
   "id": "671c79b3-cb4c-4767-a705-d93bdc75d607",
   "metadata": {},
   "source": [
    "---"
   ]
  },
  {
   "cell_type": "markdown",
   "id": "b4d59521-fbbe-4765-9c65-d464950b745d",
   "metadata": {},
   "source": [
    "### <span style=\"color: #2e6f40\"><span style='font-family:\"Times New Roman\"'> <span styel=''>**a) <ins>Conclusion sur les résultats obtenus :**</ins></span></span>\n",
    "\n",
    "*Le graphique présente le taux de survie par classe (Pclass) sous forme de barres.*\n",
    "\n",
    "- Classe 1 (Première classe) : Les passagers de première classe affichent un taux de survie significativement plus élevé que les autres classes. Cela reflète le privilège accordé aux passagers de première classe lors des procédures d'évacuation.\n",
    "\n",
    "- Classe 2 (Deuxième classe) : Le taux de survie des passagers de deuxième classe est inférieur à celui de la première classe, mais reste nettement meilleur que celui de la troisième classe. Les passagers de deuxième classe bénéficiaient sans doute d’un accès modéré aux canots de sauvetage.\n",
    "\n",
    "- Classe 3 (Troisième classe) : Les passagers de troisième classe ont le taux de survie le plus faible. Cela pourrait être dû à des facteurs tels que leur emplacement dans le navire (plus éloigné des canots de sauvetage) ou leur statut socio-économique limitant leur priorité lors de l'évacuation.\n",
    "\n",
    "**Le graphique met en évidence une corrélation claire entre la classe sociale et les chances de survie. Plus la classe est élevée, plus les chances de survie sont importantes. Cela illustre l'inégalité des opportunités de survie lors de la catastrophe, les passagers des classes supérieures bénéficiant d'un accès privilégié aux ressources de sauvetage.**"
   ]
  },
  {
   "cell_type": "markdown",
   "id": "59f76f73-64e3-4033-8bde-0b9fa719bd66",
   "metadata": {},
   "source": [
    "---"
   ]
  },
  {
   "cell_type": "markdown",
   "id": "bc680c8f-bfda-48ab-9f10-f7cc8b8079fa",
   "metadata": {},
   "source": [
    "# <span style=\"color: darkblue\"><span style='font-family:\"Times New Roman\"'> <span styel=''>**2. <ins>Taux de survie par sexe**</ins></span></span>\n"
   ]
  },
  {
   "cell_type": "code",
   "execution_count": 122,
   "id": "df1969cb-fb3c-4c3a-b3be-4205523f3996",
   "metadata": {},
   "outputs": [
    {
     "data": {
      "image/png": "[encoded data removed]",
      "text/plain": [
       "<Figure size 1000x600 with 1 Axes>"
      ]
     },
     "metadata": {},
     "output_type": "display_data"
    }
   ],
   "source": [
    "plt.figure(figsize=(10, 6))\n",
    "survival_by_sex.plot(kind='bar', color=['pink', 'blue'], edgecolor='black')\n",
    "plt.title(\"Taux de survie par sexe\", fontweight = 'bold', color = 'green')\n",
    "plt.xlabel(\"Sexe\")\n",
    "plt.ylabel(\"Taux de survie\")\n",
    "plt.xticks([0, 1], labels=['Femmes', 'Hommes'], rotation=0)\n",
    "plt.grid(True)\n",
    "plt.tight_layout()\n",
    "plt.show()\n"
   ]
  },
  {
   "cell_type": "markdown",
   "id": "af7d288a-bf4d-4a42-b7a1-5e555b35bf0e",
   "metadata": {},
   "source": [
    "---"
   ]
  },
  {
   "cell_type": "markdown",
   "id": "8a53676f-df83-46eb-9a2e-d0b30c9fc4df",
   "metadata": {},
   "source": [
    "\n",
    "### <span style=\"color: #2e6f40\"><span style='font-family:\"Times New Roman\"'> <span styel=''>**b) <ins>Conclusion sur les résultats obtenus :**</ins></span></span>\n",
    "\n",
    "*Le graphique présente le taux de survie en fonction du sexe sous forme de barres.*\n",
    "\n",
    "- Femmes : Le taux de survie des femmes est très élevé, ce qui reflète la priorité donnée aux femmes (et aux enfants) lors des évacuations, conformément à la règle \"les femmes et les enfants d'abord\".\n",
    "\n",
    "- Hommes : Le taux de survie des hommes est nettement plus bas que celui des femmes. Cela illustre qu’ils étaient souvent relégués au second plan dans les efforts d'évacuation, probablement en raison de l'ordre d'évacuation.\n",
    "\n",
    "**Le graphique met en évidence une forte différence dans les chances de survie entre les sexes. Les femmes avaient une probabilité significativement plus élevée de survivre que les hommes, soulignant les inégalités liées aux priorités d'évacuation. Cela reflète les normes sociales de l'époque, où les femmes et les enfants étaient généralement protégés en priorité lors des situations d'urgence.**"
   ]
  },
  {
   "cell_type": "markdown",
   "id": "dcaff0f2-c533-4427-b0b8-cca2b3ce57c7",
   "metadata": {},
   "source": [
    "---"
   ]
  },
  {
   "cell_type": "markdown",
   "id": "f7de0baf-d8b5-4b0c-8538-5f4ddc0ce038",
   "metadata": {},
   "source": [
    "# <span style=\"color: darkblue\"><span style='font-family:\"Times New Roman\"'> <span styel=''>**3. <ins>Distribution des âges : Survivants vs Non-survivants**</ins></span></span>"
   ]
  },
  {
   "cell_type": "code",
   "execution_count": 123,
   "id": "fa5fd10d-775c-4e6c-9c84-2997d310f737",
   "metadata": {},
   "outputs": [
    {
     "data": {
      "image/png": "[encoded data removed]",
      "text/plain": [
       "<Figure size 1000x600 with 1 Axes>"
      ]
     },
     "metadata": {},
     "output_type": "display_data"
    }
   ],
   "source": [
    "plt.figure(figsize=(10, 6))\n",
    "sns.kdeplot(train.loc[train['Survived'] == 1, 'Age'], fill=True, label=\"Survivants\", color=\"green\")\n",
    "sns.kdeplot(train.loc[train['Survived'] == 0, 'Age'], fill=True, label=\"Non-survivants\", color=\"red\")\n",
    "plt.title(\"Distribution des âges : Survivants vs Non-survivants\", fontweight = 'bold', color = 'green')\n",
    "plt.xlabel(\"Âge\")\n",
    "plt.ylabel(\"Densité\")\n",
    "plt.legend(title=\"Statut\")\n",
    "plt.xlim(0, train['Age'].max() + 5)\n",
    "plt.grid(True)\n",
    "plt.tight_layout()\n",
    "plt.show()"
   ]
  },
  {
   "cell_type": "markdown",
   "id": "4d44cf79-e94a-49fc-a1b1-6c6eefc912b2",
   "metadata": {},
   "source": [
    "---"
   ]
  },
  {
   "cell_type": "markdown",
   "id": "1b481885-53e8-4c75-a096-ba118a7eecf3",
   "metadata": {},
   "source": [
    "### <span style=\"color: #2e6f40\"><span style='font-family:\"Times New Roman\"'> <span styel=''>**c) <ins>Conclusion sur les résultats obtenus :**</ins></span></span>\n",
    "\n",
    "*Le graphique montre la distribution des âges pour les survivants (en vert) et les non-survivants (en rouge) sous forme de courbes de densité.*\n",
    "\n",
    "- Survivants : La densité est plus élevée chez les jeunes enfants et les jeunes adultes (surtout entre 20 et 30 ans), ce qui indique que ces groupes avaient des chances plus importantes de survivre. Cela peut être expliqué par la priorité donnée aux enfants et aux femmes lors des évacuations.\n",
    "\n",
    "- Non-survivants : La courbe est plus dispersée et montre une densité significative parmi les adultes de tous âges. Cela reflète que les hommes adultes (notamment ceux en troisième classe) représentaient une large proportion des victimes.\n",
    "\n",
    "### Analyse globale :\n",
    "- Les jeunes âges (en particulier les enfants) sont surreprésentés parmi les survivants, ce qui correspond aux priorités d’évacuation.\n",
    "- Les adultes sont répartis de manière plus équilibrée entre survivants et non-survivants, mais leur proportion est plus forte parmi les victimes.\n",
    "- La faible densité des personnes âgées dans les deux courbes montre qu’elles étaient moins nombreuses sur le Titanic, mais leur taux de survie restait bas.\n",
    "\n",
    "**Le graphique met donc en évidence que l’âge était un facteur important dans les chances de survie, les jeunes et les enfants ayant bénéficié d’un avantage significatif.**"
   ]
  },
  {
   "cell_type": "markdown",
   "id": "f3f69632-d861-475a-851f-bd0f559a61cd",
   "metadata": {},
   "source": [
    "---"
   ]
  },
  {
   "cell_type": "markdown",
   "id": "89381190-68ae-4dff-b8e5-0d6e7b1b3cb6",
   "metadata": {},
   "source": [
    "# <span style=\"color: darkblue\"><span style='font-family:\"Times New Roman\"'> <span styel=''>**4. <ins>Répartition des tarifs payés par classe**</ins></span></span>"
   ]
  },
  {
   "cell_type": "code",
   "execution_count": 124,
   "id": "3e87b543-dca1-49d5-9a2c-7319932f8ba2",
   "metadata": {},
   "outputs": [
    {
     "data": {
      "image/png": "[encoded data removed]",
      "text/plain": [
       "<Figure size 1000x600 with 1 Axes>"
      ]
     },
     "metadata": {},
     "output_type": "display_data"
    }
   ],
   "source": [
    "plt.figure(figsize=(10, 6))\n",
    "sns.boxplot(x='Pclass', y='Fare', data=train, hue='Pclass', palette='coolwarm', dodge=False)\n",
    "plt.title(\"Répartition des tarifs payés par classe\", fontweight = 'bold', color = 'green')\n",
    "plt.xlabel(\"Classe\")\n",
    "plt.ylabel(\"Tarif en livre sterling\")\n",
    "plt.legend(title=\"Classe\", labels=[\"1ère classe\", \"2ème classe\", \"3ème classe\"], loc=\"upper right\")\n",
    "plt.grid(True)\n",
    "plt.tight_layout()\n",
    "plt.show()"
   ]
  },
  {
   "cell_type": "markdown",
   "id": "ac3d0519-7f40-4cec-8fee-4256b3748fc6",
   "metadata": {},
   "source": [
    "---"
   ]
  },
  {
   "cell_type": "markdown",
   "id": "b8730137-a8b2-459f-a75c-a8c9d69d1f53",
   "metadata": {},
   "source": [
    "### <span style=\"color: #2e6f40\"><span style='font-family:\"Times New Roman\"'> <span styel=''>**d) <ins>Conclusion sur les résultats obtenus :**</ins></span></span>\n",
    "\n",
    "*Le graphique présente la répartition des tarifs payés (Fare) par classe (Pclass) sous forme de boîte à moustaches (boxplot).*\n",
    "\n",
    "- 1ère classe (Pclass=1) : Les passagers de première classe ont payé des tarifs nettement plus élevés, comme le montre la médiane et la large dispersion des valeurs. Certains tarifs atteignent des montants très élevés (présence d’outliers), indiquant le luxe et les privilèges associés à cette classe.\n",
    "\n",
    "- 2ème classe (Pclass=2) : Les tarifs payés en deuxième classe sont intermédiaires, avec une médiane beaucoup plus basse que celle de la première classe. La dispersion est également plus limitée, suggérant une relative homogénéité dans les prix des billets.\n",
    "\n",
    "- 3ème classe (Pclass=3) : Les passagers de troisième classe ont payé les tarifs les plus bas, avec une médiane nettement inférieure aux autres classes. La dispersion est également réduite, reflétant un accès plus restreint aux options coûteuses.\n",
    "\n",
    "**Le graphique illustre une relation claire entre le tarif payé et la classe : plus la classe est élevée, plus le tarif payé est important. Cela reflète la séparation sociale marquée à bord du Titanic, où les passagers de première classe jouissaient des meilleures commodités moyennant des tarifs beaucoup plus élevés, tandis que ceux de troisième classe voyageaient dans des conditions plus modestes avec des coûts réduits.**\n",
    "\n",
    "**Les variations au sein de chaque classe (notamment les outliers en première classe) pourraient refléter des différences dans la durée du voyage, les itinéraires, ou des services spécifiques inclus dans certains billets.**"
   ]
  },
  {
   "cell_type": "markdown",
   "id": "4821641b-7f2f-4ccd-9300-5c353af4b422",
   "metadata": {},
   "source": [
    "---"
   ]
  },
  {
   "cell_type": "markdown",
   "id": "87748f2d-4e0c-4e57-b5e9-49ec335cac2b",
   "metadata": {},
   "source": [
    "# <span style=\"color: darkblue\"><span style='font-family:\"Times New Roman\"'> <span styel=''>**5. <ins>Heatmap des corrélations**</ins></span></span>"
   ]
  },
  {
   "cell_type": "code",
   "execution_count": 125,
   "id": "00e02d09-4dd9-4b65-b655-cfd19d4e5c75",
   "metadata": {},
   "outputs": [
    {
     "data": {
      "image/png": "[encoded data removed]",
      "text/plain": [
       "<Figure size 1000x800 with 2 Axes>"
      ]
     },
     "metadata": {},
     "output_type": "display_data"
    }
   ],
   "source": [
    "plt.figure(figsize=(10, 8))\n",
    "corr = train[['Pclass', 'Age', 'SibSp', 'Parch', 'Fare', 'Survived']].corr()\n",
    "\n",
    "sns.heatmap(\n",
    "    corr, \n",
    "    annot=True, \n",
    "    cmap='plasma', \n",
    "    fmt='.2f', \n",
    "    vmin=-1, vmax=1,\n",
    "    cbar_kws={'label': 'Corrélation'}\n",
    ")\n",
    "\n",
    "plt.title(\"Matrice de corrélation\", fontweight='bold', color='green')\n",
    "plt.gca().invert_yaxis() # Inverser l'ordre des mots sur l'axe Y\n",
    "plt.tight_layout()\n",
    "plt.show()"
   ]
  },
  {
   "cell_type": "markdown",
   "id": "5d0030ac-6ef8-4aa9-929b-d4e36412ca9f",
   "metadata": {},
   "source": [
    "---"
   ]
  },
  {
   "cell_type": "markdown",
   "id": "20e57e25-8187-4880-954c-7cc02705a1ff",
   "metadata": {},
   "source": [
    "### <span style=\"color: #2e6f40\"><span style='font-family:\"Times New Roman\"'> <span styel=''>**e) <ins>Conclusion sur les résultats obtenus :**</ins></span></span>\n",
    "\n",
    "*Le graphique présente une matrice de corrélation des variables numériques du dataset, avec des coefficients de corrélation allant de -1 à 1 :*\n",
    "\n",
    "### Relation avec Survived (taux de survie) :\n",
    "\n",
    "- <span style=\"cursor: help; color: blue; border-bottom: 3px dotted blue;\" title=\"Classe de cabine des passagers (1 = première, 3 = troisième).\">Pclass</span> : Corrélation négative modérée (~ -0.34), indiquant que les passagers des classes inférieures avaient moins de chances de survivre.\n",
    "- <span style=\"cursor: help; color: blue; border-bottom: 3px dotted blue;\" title=\"Tarif payé par le passager pour son billet.\">Fare</span> : Corrélation positive (~ 0.26), montrant que les passagers ayant payé des tarifs plus élevés avaient plus de chances de survivre (souvent liés aux classes supérieures).\n",
    "- Age : Corrélation faible et légèrement négative (~ -0.08), suggérant que l’âge seul n’est pas un facteur déterminant, bien qu’il ait une influence indirecte.\n",
    "- <span style=\"cursor: help; color: blue; border-bottom: 3px dotted blue;\" title=\"Nombre de frères, sœurs ou conjoints à bord avec le passager.\">SibSp</span>  (Nombre de frères/sœurs/conjoints) et <span style=\"cursor: help; color: blue; border-bottom: 3px dotted blue;\" title=\"Nombre de parents ou enfants à bord avec le passager.\">Parch</span>: Corrélations faibles positives (~ 0.04 et 0.08), indiquant un faible lien entre le fait de voyager en famille et les chances de survie.\n",
    "\n",
    "### Relations entre les autres variables :\n",
    "\n",
    "- Fare et Pclass : Corrélation négative forte (~ -0.55), confirmant que les passagers des classes inférieures payaient des tarifs significativement plus bas.\n",
    "Age et Pclass : Corrélation faible négative (~ -0.37), indiquant que les passagers plus jeunes étaient plus souvent en classes inférieures.\n",
    "- SibSp et Parch : Corrélation positive (~ 0.41), montrant qu’un plus grand nombre de compagnons de voyage en famille est souvent lié.\n",
    "\n",
    "**La matrice de corrélation met en évidence les liens entre les différentes variables, confirmant certaines relations connues (par exemple, l’impact de la classe et du tarif sur la survie). Cependant, les coefficients modérés ou faibles suggèrent que les chances de survie sont influencées par une combinaison complexe de plusieurs facteurs (classe, tarif, sexe, âge, etc.) plutôt que par une seule variable dominante.**"
   ]
  },
  {
   "cell_type": "markdown",
   "id": "1a0a6aaa-0947-41af-a057-ebd7c35a4588",
   "metadata": {},
   "source": [
    "---"
   ]
  },
  {
   "cell_type": "markdown",
   "id": "b43cbffe-e924-418f-92c1-c9e842198127",
   "metadata": {},
   "source": [
    "# <span style=\"color: darkblue\"><span style='font-family:\"Times New Roman\"'> <span styel=''>**6.<ins> Importance des features (graphique)**</ins></span></span>"
   ]
  },
  {
   "cell_type": "code",
   "execution_count": 126,
   "id": "42418f1e-e847-4dfb-a45a-816036e170b4",
   "metadata": {},
   "outputs": [],
   "source": [
    "#plt.figure(figsize=(10, 6))\n",
    "#sns.barplot(\n",
    " #   x='importance', y='feature', \n",
    "  #  data=feature_importance.sort_values('importance', ascending=False), \n",
    "   # hue='importance', \n",
    "    #palette='coolwarm'\n",
    "#)\n",
    "#plt.title(\"Importance des features (Régression logistique)\", fontweight = 'bold', color = 'green')\n",
    "#plt.xlabel(\"Importance absolue\")\n",
    "#plt.ylabel(\"Feature\")\n",
    "#plt.grid(True)\n",
    "#plt.tight_layout()\n",
    "#plt.show()"
   ]
  },
  {
   "cell_type": "markdown",
   "id": "75842a1c-7e0a-4add-8458-9d8adeb4e747",
   "metadata": {},
   "source": [
    "---"
   ]
  },
  {
   "cell_type": "markdown",
   "id": "5398042f-aa39-4868-99e2-250e7734eac6",
   "metadata": {},
   "source": [
    "### <span style=\"color: #2e6f40\"><span style='font-family:\"Times New Roman\"'> <span styel=''>**f) <ins>Conclusion sur les résultats obtenus :**</ins></span></span>\n",
    "\n",
    "*Le graphique présente l'importance des features utilisées dans un modèle de régression logistique pour prédire la survie (Survived) des passagers.*\n",
    "\n",
    "### Features les plus importantes :\n",
    "\n",
    "Les caractéristiques les mieux classées (avec des valeurs d'importance absolue élevées) jouent un rôle déterminant dans la prédiction. Par exemple, des variables comme Pclass (classe sociale), Fare (tarif payé), ou Sex (sexe) sont souvent parmi les plus influentes pour ce type de modèle.\n",
    "\n",
    "### Features secondaires :\n",
    "\n",
    "Les variables ayant une importance plus faible, comme SibSp (nombre de frères/sœurs/conjoints) ou Parch (nombre de parents/enfants), contribuent de manière moindre au modèle, bien qu'elles puissent fournir un contexte supplémentaire.\n",
    "\n",
    "**Ce graphique met en lumière les contributions relatives de chaque variable au modèle prédictif. Les variables liées au statut socio-économique (Pclass, Fare) et au sexe (priorités lors de l’évacuation) se révèlent être des facteurs clés, ce qui est cohérent avec les analyses précédentes. Les variables ayant moins d'importance, comme la composition familiale (SibSp, Parch), jouent un rôle plus modeste mais peuvent améliorer légèrement les prédictions globales.**\n",
    "\n",
    "**Cette visualisation permet d'orienter des analyses plus approfondies ou des ajustements sur les données pour améliorer la performance du modèle.**"
   ]
  },
  {
   "cell_type": "markdown",
   "id": "b004b08f-1f74-4061-a82d-aa1b5f7170ab",
   "metadata": {},
   "source": [
    "---"
   ]
  },
  {
   "cell_type": "markdown",
   "id": "e7fb3d77-57e5-45e8-9000-33a2c89ca05b",
   "metadata": {},
   "source": [
    "* ## <span style=\"color: red\"><span style='font-family:\"Times New Roman\"'> <span styel=''>**Ce script fait plusieurs choses :**</span></span></span>\n",
    "\n",
    "    - ###  <span style='font-family:\"Times New Roman\"'> <span styel=''><span style='font-family:\"Times New Roman\"'> <span styel=''>Amélioration significative par rapport au modèle précédent</span></span>\n",
    "        \n",
    "    * ### <span style='font-family:\"Times New Roman\"'> <span styel=''>Compréhension de l'impact des différentes features</span></span>"
   ]
  },
  {
   "cell_type": "markdown",
   "id": "ca261bef-bcbd-4565-93bc-fe51631614c2",
   "metadata": {},
   "source": [
    "<span style=\"color: #2e6f40\">//////////////////////////////////////////////////////////////////////////////////////////////////////////////////////////////////////////////////////////////////////////////////////////////////////////</span>"
   ]
  },
  {
   "cell_type": "markdown",
   "id": "3151cc45-40d8-4ac5-bde9-5f2dd1968faf",
   "metadata": {},
   "source": [
    "# <span style=\"color: darkred\"><span style='font-family:\"Times New Roman\"'> <span styel=''>**4) <ins>ITERATION 2**</ins></span></span>\n",
    "\n",
    "* ## <span style=\"color: darkblue\"><span style='font-family:\"Times New Roman\"'> <span styel=''>**a) Ingénierie de features plus avancée**</span></span>\n",
    "* ## <span style=\"color: darkblue\"><span style='font-family:\"Times New Roman\"'> <span styel=''>**b) Capture des interactions non-linéaires**</span></span>\n",
    "* ## <span style=\"color: darkblue\"><span style='font-family:\"Times New Roman\"'> <span styel=''>**c) Features enrichies :**</span></span>\n",
    "    - ### <span style='font-family:\"Times New Roman\"'> <span styel=''>**Taille de la famille**</span>\n",
    "    - ### <span style='font-family:\"Times New Roman\"'> <span styel=''>**Titre**</span>\n",
    "    - ### <span style='font-family:\"Times New Roman\"'> <span styel=''>**Catégorisation de l'âge**</span>\n"
   ]
  },
  {
   "cell_type": "markdown",
   "id": "865cbb32-d311-4f33-be51-3f5e7e9b0231",
   "metadata": {},
   "source": [
    "---"
   ]
  },
  {
   "cell_type": "markdown",
   "id": "bfb5397a-ec74-4e7f-bb6e-12c7bd6005ec",
   "metadata": {},
   "source": [
    "* ## ⚠️<span style=\"color: red\"><span style='font-family:\"Times New Roman\"'> <span styel=''>**Les principales améliorations de cette version :**</span></span></span>\n",
    "\n",
    "    - ###  <span style='font-family:\"Times New Roman\"'> <span styel=''><span style='font-family:\"Times New Roman\"'> <span styel=''>Ingénierie de features avancée :</span></span></span>\n",
    "\n",
    "        - <span style='font-family:\"Times New Roman\"'> <span styel=''><span style='font-family:\"Times New Roman\"'> <span styel=''>Taille de famille</span></span></span>\n",
    "        - <span style='font-family:\"Times New Roman\"'> <span styel=''><span style='font-family:\"Times New Roman\"'> <span styel=''>Titre de la personne</span></span></span>\n",
    "        - <span style='font-family:\"Times New Roman\"'> <span styel=''><span style='font-family:\"Times New Roman\"'> <span styel=''>Deck de la cabine</span></span></span>\n",
    "        - <span style='font-family:\"Times New Roman\"'> <span styel=''><span style='font-family:\"Times New Roman\"'> <span styel=''>Détection des enfants</span></span></span>\n",
    "        - <span style='font-family:\"Times New Roman\"'> <span styel=''><span style='font-family:\"Times New Roman\"'> <span styel=''>Détection des passagers seuls</span></span></span>\n",
    "\n",
    "\n",
    "    - ###  <span style='font-family:\"Times New Roman\"'> <span styel=''><span style='font-family:\"Times New Roman\"'> <span styel=''>Utilisation du Random Forest :</span></span></span>\n",
    "\n",
    "        - <span style='font-family:\"Times New Roman\"'> <span styel=''><span style='font-family:\"Times New Roman\"'> <span styel=''>Algorithme plus puissant que la régression logistique</span></span></span>\n",
    "        - <span style='font-family:\"Times New Roman\"'> <span styel=''><span style='font-family:\"Times New Roman\"'> <span styel=''>Capture mieux les interactions non linéaires</span></span></span>\n",
    "\n",
    "\n",
    "    - ###  <span style='font-family:\"Times New Roman\"'> <span styel=''><span style='font-family:\"Times New Roman\"'> <span styel=''>Validation croisée :</span></span></span>\n",
    "\n",
    "        - <span style='font-family:\"Times New Roman\"'> <span styel=''><span style='font-family:\"Times New Roman\"'> <span styel=''>Évalue la stabilité du modèle</span></span></span>\n",
    "        - <span style='font-family:\"Times New Roman\"'> <span styel=''><span style='font-family:\"Times New Roman\"'> <span styel=''>Donne une estimation plus robuste des performances</span></span></span></span></span></span>\n",
    "\n",
    "\n",
    "    - - ###  <span style='font-family:\"Times New Roman\"'> <span styel=''><span style='font-family:\"Times New Roman\"'> <span styel=''>Analyse de l'importance des features"
   ]
  },
  {
   "cell_type": "markdown",
   "id": "69bfb9c2-873f-4092-801f-a9b3a29ae53c",
   "metadata": {},
   "source": [
    "---"
   ]
  },
  {
   "cell_type": "code",
   "execution_count": 127,
   "id": "8c950bee-f0cd-4ae9-afbf-1bf9e4594fbd",
   "metadata": {
    "scrolled": true
   },
   "outputs": [
    {
     "name": "stdout",
     "output_type": "stream",
     "text": [
      "Scores de validation croisée (Random Forest) : [0.7972028  0.78321678 0.82394366 0.84507042 0.82394366]\n",
      "Score moyen de validation croisée (Random Forest) : 81.47%\n",
      "\n",
      "Résultats du modèle Random Forest :\n",
      "Précision : 81.01%\n",
      "\n",
      "Rapport de classification :\n",
      "              precision    recall  f1-score   support\n",
      "\n",
      "           0       0.82      0.88      0.85       110\n",
      "           1       0.79      0.70      0.74        69\n",
      "\n",
      "    accuracy                           0.81       179\n",
      "   macro avg       0.80      0.79      0.79       179\n",
      "weighted avg       0.81      0.81      0.81       179\n",
      "\n"
     ]
    }
   ],
   "source": [
    "# Fonction d'ingénierie de features\n",
    "def engineer_features(df, is_train=True):\n",
    "    data = df.copy()\n",
    "    \n",
    "    # Features existantes\n",
    "    features = ['Pclass', 'Sex', 'Age', 'SibSp', 'Parch', 'Fare', 'Embarked']\n",
    "    \n",
    "    # Encodage du sexe\n",
    "    le_sex = LabelEncoder()\n",
    "    data['Sex'] = le_sex.fit_transform(data['Sex'])\n",
    "    \n",
    "    # Encodage de l'embarquement\n",
    "    le_embarked = LabelEncoder()\n",
    "    data['Embarked'] = le_embarked.fit_transform(data['Embarked'].fillna(data['Embarked'].mode()[0]))\n",
    "        \n",
    "    # 1. Taille de famille\n",
    "    data['FamilySize'] = data['SibSp'] + data['Parch'] + 1\n",
    "    \n",
    "    # 2. Titre de la personne\n",
    "    data['Title'] = data['Name'].str.extract(r' ([A-Za-z]+)\\.', expand=False)\n",
    "    # Remplacer les titres rares par 'Rare'\n",
    "    data['Title'] = data['Title'].replace(['Lady', 'Countess','Capt', 'Col', 'Don', 'Dr', \n",
    "                                          'Major', 'Rev', 'Sir', 'Jonkheer', 'Dona'], 'Rare').infer_objects(copy=False)\n",
    "    data['Title'] = le_sex.fit_transform(data['Title'].fillna('Rare'))\n",
    "    \n",
    "    # 3. Deck (première lettre de la cabine)\n",
    "    data['Deck'] = data['Cabin'].str[0].fillna('U')  # 'U' pour Unknown\n",
    "    le_deck = LabelEncoder()\n",
    "    data['Deck'] = le_deck.fit_transform(data['Deck'])\n",
    "    \n",
    "    # 4. Feature binaire pour les enfants\n",
    "    data['IsChild'] = (data['Age'] <= 16).astype(int)\n",
    "    \n",
    "    # 5. Feature binaire pour les passagers seuls\n",
    "    data['IsAlone'] = (data['FamilySize'] == 1).astype(int)\n",
    "    \n",
    "    # Imputation des valeurs manquantes\n",
    "    features_to_impute = ['Age', 'Fare']\n",
    "    imputer = SimpleImputer(strategy='median')\n",
    "    data[features_to_impute] = imputer.fit_transform(data[features_to_impute])\n",
    "    \n",
    "    # Sélection finale des features\n",
    "    features = ['Pclass', 'Sex', 'Age', 'SibSp', 'Parch', 'Fare', 'Embarked', \n",
    "                'FamilySize', 'Title', 'Deck', 'IsChild', 'IsAlone']\n",
    "    \n",
    "    X = data[features]\n",
    "    \n",
    "    if is_train:\n",
    "        y = data['Survived']\n",
    "        return X, y\n",
    "    return X\n",
    "\n",
    "# Préparation des données pour Random Forest\n",
    "X_rf, y_rf = engineer_features(train)\n",
    "\n",
    "# Division en ensemble d'entraînement et de validation avec stratification\n",
    "X_train_rf, X_val_rf, y_train_rf, y_val_rf = train_test_split(\n",
    "    X_rf, y_rf, test_size=0.2, random_state=42, stratify=y_rf\n",
    ")\n",
    "\n",
    "# Mise à l'échelle des features\n",
    "scaler_rf = StandardScaler()\n",
    "X_train_scaled_rf = scaler_rf.fit_transform(X_train_rf)\n",
    "X_val_scaled_rf = scaler_rf.transform(X_val_rf)\n",
    "\n",
    "# Entraînement du modèle Random Forest\n",
    "rf_model = RandomForestClassifier(\n",
    "    n_estimators=100, \n",
    "    random_state=42, \n",
    "    max_depth=5, \n",
    "    min_samples_split=5\n",
    ")\n",
    "\n",
    "# Validation croisée pour Random Forest\n",
    "cv_scores_rf = cross_val_score(rf_model, X_train_scaled_rf, y_train_rf, cv=5)\n",
    "print(\"Scores de validation croisée (Random Forest) :\", cv_scores_rf)\n",
    "print(\"Score moyen de validation croisée (Random Forest) : {:.2%}\".format(cv_scores_rf.mean()))\n",
    "\n",
    "# Entraînement final du Random Forest\n",
    "rf_model.fit(X_train_scaled_rf, y_train_rf)\n",
    "\n",
    "# Prédictions et évaluation du Random Forest\n",
    "y_pred_rf = rf_model.predict(X_val_scaled_rf)\n",
    "accuracy_rf = accuracy_score(y_val_rf, y_pred_rf)\n",
    "\n",
    "print(\"\\nRésultats du modèle Random Forest :\")\n",
    "print(f\"Précision : {accuracy_rf:.2%}\")\n",
    "print(\"\\nRapport de classification :\")\n",
    "print(classification_report(y_val_rf, y_pred_rf))"
   ]
  },
  {
   "cell_type": "markdown",
   "id": "b4a1bfda-1ce2-4916-982a-c79052c95cbe",
   "metadata": {},
   "source": [
    "---"
   ]
  },
  {
   "cell_type": "markdown",
   "id": "b2f2ee36-dc1f-469d-a902-9f31bd1116ee",
   "metadata": {},
   "source": [
    "* ## <span style=\"color: red\"><span style='font-family:\"Times New Roman\"'> <span styel=''>**Résultats attendus :**</span></span></span>\n",
    "\n",
    "    - ###  <span style='font-family:\"Times New Roman\"'> <span styel=''><span style='font-family:\"Times New Roman\"'> <span styel=''>Amélioration de la précision</span></span></span>\n",
    "    - ###  <span style='font-family:\"Times New Roman\"'> <span styel=''><span style='font-family:\"Times New Roman\"'> <span styel=''>Meilleure compréhension de l'impact des différentes caractéristiques</span></span></span>"
   ]
  },
  {
   "cell_type": "markdown",
   "id": "7e77ef9d-e3f7-4eef-a8bb-634e6a27fc61",
   "metadata": {},
   "source": [
    "<span style=\"color: #2e6f40\">//////////////////////////////////////////////////////////////////////////////////////////////////////////////////////////////////////////////////////////////////////////////////////////////////////////</span>"
   ]
  },
  {
   "cell_type": "markdown",
   "id": "7319b4b0-c142-4e80-8bad-fd9776c4737b",
   "metadata": {},
   "source": [
    "# <span style=\"color: darkred\"><span style='font-family:\"Times New Roman\"'> <span styel=''>**5) <ins>ITERATION 3 (XGBoost)**</ins></span></span>\n",
    "\n",
    "* ## <span style=\"color: darkblue\"><span style='font-family:\"Times New Roman\"'> <span styel=''>**a) Algorythme de gradient boosting**</span></span>\n",
    "* ## <span style=\"color: darkblue\"><span style='font-family:\"Times New Roman\"'> <span styel=''>**b) Optimisation des hyperparamètre**</span></span>\n",
    "* ## <span style=\"color: darkblue\"><span style='font-family:\"Times New Roman\"'> <span styel=''>**c) Recherche aléatoirement des meilleurs paramètres**</span></span>\n",
    "* ## <span style=\"color: darkblue\"><span style='font-family:\"Times New Roman\"'> <span styel=''>**d) Feature plus sophistiqué**</span></span>"
   ]
  },
  {
   "cell_type": "markdown",
   "id": "2f58b188-7d14-4b15-a76b-9f2d45ee1ad7",
   "metadata": {},
   "source": [
    "---"
   ]
  },
  {
   "cell_type": "markdown",
   "id": "c799a3c5-d6b2-498d-be46-9573a0d4e8e5",
   "metadata": {},
   "source": [
    "* ## ⚠️<span style=\"color: red\"><span style='font-family:\"Times New Roman\"'> <span styel=''>**Principales améliorations dans cette version :**</span></span></span>\n",
    "\n",
    "    - ###  <span style='font-family:\"Times New Roman\"'> <span styel=''><span style='font-family:\"Times New Roman\"'> <span styel=''>Utilisation de XGBoost</span></span></span>\n",
    "\n",
    "        - <span style='font-family:\"Times New Roman\"'> <span styel=''><span style='font-family:\"Times New Roman\"'> <span styel=''>Algorithme de boosting très performant</span></span></span>\n",
    "        - <span style='font-family:\"Times New Roman\"'> <span styel=''><span style='font-family:\"Times New Roman\"'> <span styel=''>Gère bien les interactions complexes</span></span></span>\n",
    "\n",
    "\n",
    "    - ###  <span style='font-family:\"Times New Roman\"'> <span styel=''><span style='font-family:\"Times New Roman\"'> <span styel=''>Ingénierie de features plus sophistiquée :</span></span></span>\n",
    "\n",
    "        - <span style='font-family:\"Times New Roman\"'> <span styel=''><span style='font-family:\"Times New Roman\"'> <span styel=''>Catégorisation de la taille de famille</span></span></span>\n",
    "        - <span style='font-family:\"Times New Roman\"'> <span styel=''><span style='font-family:\"Times New Roman\"'> <span styel=''>Extraction et regroupement des titres</span></span></span>\n",
    "        - <span style='font-family:\"Times New Roman\"'> <span styel=''><span style='font-family:\"Times New Roman\"'> <span styel=''>Catégorisation de la richesse</span></span></span>\n",
    "        - <span style='font-family:\"Times New Roman\"'> <span styel=''><span style='font-family:\"Times New Roman\"'> <span styel=''>Groupes d'âge</span></span></span>\n",
    "        - <span style='font-family:\"Times New Roman\"'> <span styel=''><span style='font-family:\"Times New Roman\"'> <span styel=''>Interaction classe-sexe</span></span></span>\n",
    "\n",
    "\n",
    "    - ###  <span style='font-family:\"Times New Roman\"'> <span styel=''><span style='font-family:\"Times New Roman\"'> <span styel=''>Optimisation des hyperparamètres :</span></span></span>\n",
    "\n",
    "        - <span style='font-family:\"Times New Roman\"'> <span styel=''><span style='font-family:\"Times New Roman\"'> <span styel=''>Recherche aléatoire pour trouver la meilleure configuration</span></span></span>\n",
    "        - <span style='font-family:\"Times New Roman\"'> <span styel=''><span style='font-family:\"Times New Roman\"'> <span styel=''>Validation croisée pour une estimation robuste</span></span></span>\n",
    "\n",
    "\n",
    "    - ###  <span style='font-family:\"Times New Roman\"'> <span styel=''><span style='font-family:\"Times New Roman\"'> <span styel=''>Analyse détaillée de l'importance des features</span></span></span>"
   ]
  },
  {
   "cell_type": "markdown",
   "id": "0c312c15-2390-4a92-9d45-cd761b4681c2",
   "metadata": {},
   "source": [
    "---"
   ]
  },
  {
   "cell_type": "code",
   "execution_count": 138,
   "id": "2ce5e366",
   "metadata": {},
   "outputs": [
    {
     "name": "stdout",
     "output_type": "stream",
     "text": [
      "Version de scikit-learn : 1.6.0\n",
      "Version de XGBoost : 2.1.3\n"
     ]
    }
   ],
   "source": [
    "import sklearn\n",
    "import xgboost\n",
    "\n",
    "print(\"Version de scikit-learn :\", sklearn.__version__)\n",
    "print(\"Version de XGBoost :\", xgboost.__version__)\n"
   ]
  },
  {
   "cell_type": "code",
   "execution_count": 135,
   "id": "85ade19e-2b56-4884-bcbf-0f30461ad156",
   "metadata": {},
   "outputs": [
    {
     "name": "stdout",
     "output_type": "stream",
     "text": [
      "Début de la recherche des hyperparamètres avec RandomizedSearchCV (XGBoost)...\n"
     ]
    },
    {
     "ename": "AttributeError",
     "evalue": "'super' object has no attribute '__sklearn_tags__'",
     "output_type": "error",
     "traceback": [
      "\u001b[0;31m---------------------------------------------------------------------------\u001b[0m",
      "\u001b[0;31mAttributeError\u001b[0m                            Traceback (most recent call last)",
      "Cell \u001b[0;32mIn[135], line 51\u001b[0m\n\u001b[1;32m     49\u001b[0m \u001b[38;5;66;03m# Ajustement du modèle XGBoost\u001b[39;00m\n\u001b[1;32m     50\u001b[0m \u001b[38;5;28mprint\u001b[39m(\u001b[38;5;124m\"\u001b[39m\u001b[38;5;124mDébut de la recherche des hyperparamètres avec RandomizedSearchCV (XGBoost)...\u001b[39m\u001b[38;5;124m\"\u001b[39m)\n\u001b[0;32m---> 51\u001b[0m \u001b[43mrandom_search_xgb\u001b[49m\u001b[38;5;241;43m.\u001b[39;49m\u001b[43mfit\u001b[49m\u001b[43m(\u001b[49m\u001b[43mX_train_scaled_rf\u001b[49m\u001b[43m,\u001b[49m\u001b[43m \u001b[49m\u001b[43my_train_rf\u001b[49m\u001b[43m)\u001b[49m\n\u001b[1;32m     52\u001b[0m \u001b[38;5;28mprint\u001b[39m(\u001b[38;5;124m\"\u001b[39m\u001b[38;5;124mRecherche des hyperparamètres terminée.\u001b[39m\u001b[38;5;130;01m\\n\u001b[39;00m\u001b[38;5;124m\"\u001b[39m)\n\u001b[1;32m     54\u001b[0m \u001b[38;5;66;03m# Meilleur modèle XGBoost\u001b[39;00m\n",
      "File \u001b[0;32m~/Bureau/test_kaggle-titanic/kaggle-titanic/lib/python3.12/site-packages/sklearn/base.py:1389\u001b[0m, in \u001b[0;36m_fit_context.<locals>.decorator.<locals>.wrapper\u001b[0;34m(estimator, *args, **kwargs)\u001b[0m\n\u001b[1;32m   1382\u001b[0m     estimator\u001b[38;5;241m.\u001b[39m_validate_params()\n\u001b[1;32m   1384\u001b[0m \u001b[38;5;28;01mwith\u001b[39;00m config_context(\n\u001b[1;32m   1385\u001b[0m     skip_parameter_validation\u001b[38;5;241m=\u001b[39m(\n\u001b[1;32m   1386\u001b[0m         prefer_skip_nested_validation \u001b[38;5;129;01mor\u001b[39;00m global_skip_validation\n\u001b[1;32m   1387\u001b[0m     )\n\u001b[1;32m   1388\u001b[0m ):\n\u001b[0;32m-> 1389\u001b[0m     \u001b[38;5;28;01mreturn\u001b[39;00m \u001b[43mfit_method\u001b[49m\u001b[43m(\u001b[49m\u001b[43mestimator\u001b[49m\u001b[43m,\u001b[49m\u001b[43m \u001b[49m\u001b[38;5;241;43m*\u001b[39;49m\u001b[43margs\u001b[49m\u001b[43m,\u001b[49m\u001b[43m \u001b[49m\u001b[38;5;241;43m*\u001b[39;49m\u001b[38;5;241;43m*\u001b[39;49m\u001b[43mkwargs\u001b[49m\u001b[43m)\u001b[49m\n",
      "File \u001b[0;32m~/Bureau/test_kaggle-titanic/kaggle-titanic/lib/python3.12/site-packages/sklearn/model_selection/_search.py:932\u001b[0m, in \u001b[0;36mBaseSearchCV.fit\u001b[0;34m(self, X, y, **params)\u001b[0m\n\u001b[1;32m    928\u001b[0m params \u001b[38;5;241m=\u001b[39m _check_method_params(X, params\u001b[38;5;241m=\u001b[39mparams)\n\u001b[1;32m    930\u001b[0m routed_params \u001b[38;5;241m=\u001b[39m \u001b[38;5;28mself\u001b[39m\u001b[38;5;241m.\u001b[39m_get_routed_params_for_fit(params)\n\u001b[0;32m--> 932\u001b[0m cv_orig \u001b[38;5;241m=\u001b[39m check_cv(\u001b[38;5;28mself\u001b[39m\u001b[38;5;241m.\u001b[39mcv, y, classifier\u001b[38;5;241m=\u001b[39m\u001b[43mis_classifier\u001b[49m\u001b[43m(\u001b[49m\u001b[43mestimator\u001b[49m\u001b[43m)\u001b[49m)\n\u001b[1;32m    933\u001b[0m n_splits \u001b[38;5;241m=\u001b[39m cv_orig\u001b[38;5;241m.\u001b[39mget_n_splits(X, y, \u001b[38;5;241m*\u001b[39m\u001b[38;5;241m*\u001b[39mrouted_params\u001b[38;5;241m.\u001b[39msplitter\u001b[38;5;241m.\u001b[39msplit)\n\u001b[1;32m    935\u001b[0m base_estimator \u001b[38;5;241m=\u001b[39m clone(\u001b[38;5;28mself\u001b[39m\u001b[38;5;241m.\u001b[39mestimator)\n",
      "File \u001b[0;32m~/Bureau/test_kaggle-titanic/kaggle-titanic/lib/python3.12/site-packages/sklearn/base.py:1237\u001b[0m, in \u001b[0;36mis_classifier\u001b[0;34m(estimator)\u001b[0m\n\u001b[1;32m   1230\u001b[0m     warnings\u001b[38;5;241m.\u001b[39mwarn(\n\u001b[1;32m   1231\u001b[0m         \u001b[38;5;124mf\u001b[39m\u001b[38;5;124m\"\u001b[39m\u001b[38;5;124mpassing a class to \u001b[39m\u001b[38;5;132;01m{\u001b[39;00m\u001b[38;5;28mprint\u001b[39m(inspect\u001b[38;5;241m.\u001b[39mstack()[\u001b[38;5;241m0\u001b[39m][\u001b[38;5;241m3\u001b[39m])\u001b[38;5;132;01m}\u001b[39;00m\u001b[38;5;124m is deprecated and \u001b[39m\u001b[38;5;124m\"\u001b[39m\n\u001b[1;32m   1232\u001b[0m         \u001b[38;5;124m\"\u001b[39m\u001b[38;5;124mwill be removed in 1.8. Use an instance of the class instead.\u001b[39m\u001b[38;5;124m\"\u001b[39m,\n\u001b[1;32m   1233\u001b[0m         \u001b[38;5;167;01mFutureWarning\u001b[39;00m,\n\u001b[1;32m   1234\u001b[0m     )\n\u001b[1;32m   1235\u001b[0m     \u001b[38;5;28;01mreturn\u001b[39;00m \u001b[38;5;28mgetattr\u001b[39m(estimator, \u001b[38;5;124m\"\u001b[39m\u001b[38;5;124m_estimator_type\u001b[39m\u001b[38;5;124m\"\u001b[39m, \u001b[38;5;28;01mNone\u001b[39;00m) \u001b[38;5;241m==\u001b[39m \u001b[38;5;124m\"\u001b[39m\u001b[38;5;124mclassifier\u001b[39m\u001b[38;5;124m\"\u001b[39m\n\u001b[0;32m-> 1237\u001b[0m \u001b[38;5;28;01mreturn\u001b[39;00m \u001b[43mget_tags\u001b[49m\u001b[43m(\u001b[49m\u001b[43mestimator\u001b[49m\u001b[43m)\u001b[49m\u001b[38;5;241m.\u001b[39mestimator_type \u001b[38;5;241m==\u001b[39m \u001b[38;5;124m\"\u001b[39m\u001b[38;5;124mclassifier\u001b[39m\u001b[38;5;124m\"\u001b[39m\n",
      "File \u001b[0;32m~/Bureau/test_kaggle-titanic/kaggle-titanic/lib/python3.12/site-packages/sklearn/utils/_tags.py:405\u001b[0m, in \u001b[0;36mget_tags\u001b[0;34m(estimator)\u001b[0m\n\u001b[1;32m    403\u001b[0m \u001b[38;5;28;01mfor\u001b[39;00m klass \u001b[38;5;129;01min\u001b[39;00m \u001b[38;5;28mreversed\u001b[39m(\u001b[38;5;28mtype\u001b[39m(estimator)\u001b[38;5;241m.\u001b[39mmro()):\n\u001b[1;32m    404\u001b[0m     \u001b[38;5;28;01mif\u001b[39;00m \u001b[38;5;124m\"\u001b[39m\u001b[38;5;124m__sklearn_tags__\u001b[39m\u001b[38;5;124m\"\u001b[39m \u001b[38;5;129;01min\u001b[39;00m \u001b[38;5;28mvars\u001b[39m(klass):\n\u001b[0;32m--> 405\u001b[0m         sklearn_tags_provider[klass] \u001b[38;5;241m=\u001b[39m \u001b[43mklass\u001b[49m\u001b[38;5;241;43m.\u001b[39;49m\u001b[43m__sklearn_tags__\u001b[49m\u001b[43m(\u001b[49m\u001b[43mestimator\u001b[49m\u001b[43m)\u001b[49m  \u001b[38;5;66;03m# type: ignore[attr-defined]\u001b[39;00m\n\u001b[1;32m    406\u001b[0m         class_order\u001b[38;5;241m.\u001b[39mappend(klass)\n\u001b[1;32m    407\u001b[0m     \u001b[38;5;28;01melif\u001b[39;00m \u001b[38;5;124m\"\u001b[39m\u001b[38;5;124m_more_tags\u001b[39m\u001b[38;5;124m\"\u001b[39m \u001b[38;5;129;01min\u001b[39;00m \u001b[38;5;28mvars\u001b[39m(klass):\n",
      "File \u001b[0;32m~/Bureau/test_kaggle-titanic/kaggle-titanic/lib/python3.12/site-packages/sklearn/base.py:540\u001b[0m, in \u001b[0;36mClassifierMixin.__sklearn_tags__\u001b[0;34m(self)\u001b[0m\n\u001b[1;32m    539\u001b[0m \u001b[38;5;28;01mdef\u001b[39;00m \u001b[38;5;21m__sklearn_tags__\u001b[39m(\u001b[38;5;28mself\u001b[39m):\n\u001b[0;32m--> 540\u001b[0m     tags \u001b[38;5;241m=\u001b[39m \u001b[38;5;28;43msuper\u001b[39;49m\u001b[43m(\u001b[49m\u001b[43m)\u001b[49m\u001b[38;5;241;43m.\u001b[39;49m\u001b[43m__sklearn_tags__\u001b[49m()\n\u001b[1;32m    541\u001b[0m     tags\u001b[38;5;241m.\u001b[39mestimator_type \u001b[38;5;241m=\u001b[39m \u001b[38;5;124m\"\u001b[39m\u001b[38;5;124mclassifier\u001b[39m\u001b[38;5;124m\"\u001b[39m\n\u001b[1;32m    542\u001b[0m     tags\u001b[38;5;241m.\u001b[39mclassifier_tags \u001b[38;5;241m=\u001b[39m ClassifierTags()\n",
      "\u001b[0;31mAttributeError\u001b[0m: 'super' object has no attribute '__sklearn_tags__'"
     ]
    }
   ],
   "source": [
    "import xgboost as xgb\n",
    "from sklearn.model_selection import RandomizedSearchCV\n",
    "from sklearn.metrics import accuracy_score, classification_report\n",
    "from sklearn.datasets import load_iris  # Exemple de dataset, remplacez par votre dataset\n",
    "from sklearn.model_selection import train_test_split\n",
    "from sklearn.preprocessing import StandardScaler\n",
    "\n",
    "# Exemple de chargement de données (à remplacer par vos propres données)\n",
    "data = load_iris()\n",
    "X, y = data.data, data.target\n",
    "\n",
    "# Séparation des données\n",
    "X_train_rf, X_val_rf, y_train_rf, y_val_rf = train_test_split(X, y, test_size=0.2, random_state=42)\n",
    "\n",
    "# Mise à l'échelle des données\n",
    "scaler = StandardScaler()\n",
    "X_train_scaled_rf = scaler.fit_transform(X_train_rf)\n",
    "X_val_scaled_rf = scaler.transform(X_val_rf)\n",
    "\n",
    "# Définition des hyperparamètres à tester pour XGBoost\n",
    "param_dist = {\n",
    "    'n_estimators': [50, 100, 200],\n",
    "    'max_depth': [3, 4, 5, 6],\n",
    "    'learning_rate': [0.01, 0.1, 0.3],\n",
    "    'subsample': [0.6, 0.8, 1.0],\n",
    "    'colsample_bytree': [0.6, 0.8, 1.0],\n",
    "}\n",
    "\n",
    "# Création du modèle XGBoost avec 'use_label_encoder' désactivé\n",
    "xgb_model = xgb.XGBClassifier(\n",
    "    random_state=42, \n",
    "    eval_metric='logloss',\n",
    "    n_jobs=-1,\n",
    "    use_label_encoder=False  # Important pour éviter les avertissements\n",
    ")\n",
    "\n",
    "# Recherche aléatoire des meilleurs hyperparamètres\n",
    "random_search_xgb = RandomizedSearchCV(\n",
    "    estimator=xgb_model, \n",
    "    param_distributions=param_dist, \n",
    "    n_iter=20, \n",
    "    cv=5, \n",
    "    scoring='accuracy', \n",
    "    random_state=42,\n",
    "    verbose=1,\n",
    "    n_jobs=-1\n",
    ")\n",
    "\n",
    "# Ajustement du modèle XGBoost\n",
    "print(\"Début de la recherche des hyperparamètres avec RandomizedSearchCV (XGBoost)...\")\n",
    "random_search_xgb.fit(X_train_scaled_rf, y_train_rf)\n",
    "print(\"Recherche des hyperparamètres terminée.\\n\")\n",
    "\n",
    "# Meilleur modèle XGBoost\n",
    "best_model_xgb = random_search_xgb.best_estimator_\n",
    "\n",
    "# Prédictions et évaluation de XGBoost\n",
    "y_pred_xgb = best_model_xgb.predict(X_val_scaled_rf)\n",
    "accuracy_xgb = accuracy_score(y_val_rf, y_pred_xgb)\n",
    "\n",
    "print(\"Meilleurs hyperparamètres (XGBoost) :\", random_search_xgb.best_params_)\n",
    "print(f\"\\nRésultats du modèle XGBoost :\")\n",
    "print(f\"Précision : {accuracy_xgb:.2%}\")\n",
    "print(\"\\nRapport de classification :\")\n",
    "print(classification_report(y_val_rf, y_pred_xgb))\n"
   ]
  },
  {
   "cell_type": "markdown",
   "id": "a7f63606-e437-475a-898a-d5bd5b007121",
   "metadata": {},
   "source": [
    "---"
   ]
  },
  {
   "cell_type": "markdown",
   "id": "33ed519e-3b50-40cb-a340-6c3002144b1f",
   "metadata": {},
   "source": [
    "* ## <span style=\"color: red\"><span style='font-family:\"Times New Roman\"'> <span styel=''>**Résultats attendus :**</span></span></span>\n",
    "\n",
    "    - ###  <span style='font-family:\"Times New Roman\"'> <span styel=''><span style='font-family:\"Times New Roman\"'> <span styel=''>Amélioration significative de la précision</span></span></span>\n",
    "    - ###  <span style='font-family:\"Times New Roman\"'> <span styel=''><span style='font-family:\"Times New Roman\"'> <span styel=''>Compréhension plus fine des facteurs de survie</span></span></span>"
   ]
  },
  {
   "cell_type": "markdown",
   "id": "b00e423f-d150-4233-b56a-786e50d101e5",
   "metadata": {},
   "source": [
    "<span style=\"color: #2e6f40\">//////////////////////////////////////////////////////////////////////////////////////////////////////////////////////////////////////////////////////////////////////////////////////////////////////////</span>"
   ]
  },
  {
   "cell_type": "markdown",
   "id": "00319f35-cff0-4ae4-b137-86156321119d",
   "metadata": {},
   "source": [
    "# <span style=\"color: darkred\"><span style='font-family:\"Times New Roman\"'> <span styel=''>**6) <ins>ITERATION 4**</ins></span></span>\n",
    "\n",
    "* ## <span style=\"color: darkblue\"><span style='font-family:\"Times New Roman\"'> <span styel=''>**a) Combinaison de plusieurs modèles**</span></span>\n",
    "* ## <span style=\"color: darkblue\"><span style='font-family:\"Times New Roman\"'> <span styel=''>**b) Méta-classificateur**</span></span>\n",
    "* ## <span style=\"color: darkblue\"><span style='font-family:\"Times New Roman\"'> <span styel=''>**c) Robustesse et précision maximum**</span></span>\n",
    "\n",
    "* ## <span style=\"color: darkblue\"><span style='font-family:\"Times New Roman\"'> <span styel=''>**d) Techniques Clés d'Ingénierie de Features**</span></span>\n",
    "    - ### <span style='font-family:\"Times New Roman\"'> <span styel=''>**Encodage des variables catégorielles**</span>\n",
    "    - ### <span style='font-family:\"Times New Roman\"'> <span styel=''>**Imputation des valeurs manquantes**</span>\n",
    "    - ### <span style='font-family:\"Times New Roman\"'> <span styel=''>**Création des features dérivées**</span>\n",
    "    - ### <span style='font-family:\"Times New Roman\"'> <span styel=''>**Catégorisation non-linéaire**</span>\n",
    "    - ### <span style='font-family:\"Times New Roman\"'> <span styel=''>**Interaction entre variables**</span>\n",
    "\n",
    "* ## <span style=\"color: darkblue\"><span style='font-family:\"Times New Roman\"'> <span styel=''>**e) Techniques de validation**</span></span>\n",
    "    - ### <span style='font-family:\"Times New Roman\"'> <span styel=''>**Split train/test**</span>\n",
    "    - ### <span style='font-family:\"Times New Roman\"'> <span styel=''>**Validation croisée**</span>\n",
    "    - ### <span style='font-family:\"Times New Roman\"'> <span styel=''>**Métriques :**</span>\n",
    "        - <span style='font-family:\"Times New Roman\"'> <span styel=''>**Accuracy**</span>\n",
    "        - <span style='font-family:\"Times New Roman\"'> <span styel=''>**Rapport de classification**</span>\n",
    "    - ### <span style='font-family:\"Times New Roman\"'> <span styel=''>**Éviter le surapprentissage**</span>\n",
    "\n",
    "* ## <span style=\"color: darkblue\"><span style='font-family:\"Times New Roman\"'> <span styel=''>**f) Stratégie Kaggle**</span></span>\n",
    "    - ### <span style='font-family:\"Times New Roman\"'> <span styel=''>**Objectifs :**</span>\n",
    "        - <span style='font-family:\"Times New Roman\"'> <span styel=''>**78,9% accuracy**</span>\n",
    "        - <span style='font-family:\"Times New Roman\"'> <span styel=''>**80%-83% viser**</span>\n",
    "        - <span style='font-family:\"Times New Roman\"'> <span styel=''>**85% max**</span>\n",
    "        - <span style='font-family:\"Times New Roman\"'> <span styel=''>**85%-100% cheat**</span>\n",
    "\n",
    "* ## <span style=\"color: darkblue\"><span style='font-family:\"Times New Roman\"'> <span styel=''>**g) Principe fondamentaux**</span></span>\n",
    "    - ### <span style='font-family:\"Times New Roman\"'> <span styel=''>**Compréhension du contexte historique**</span>\n",
    "    - ### <span style='font-family:\"Times New Roman\"'> <span styel=''>**Exploration des données**</span>\n",
    "    - ### <span style='font-family:\"Times New Roman\"'> <span styel=''>**Créativité dans l'analyse**</span>\n",
    "    - ### <span style='font-family:\"Times New Roman\"'> <span styel=''>**Iteration multiple**</span>\n",
    "    - ### <span style='font-family:\"Times New Roman\"'> <span styel=''>**Pas de solution immédiat parfait**</span>"
   ]
  },
  {
   "cell_type": "markdown",
   "id": "6194edf8-a060-4c10-96fb-f1e1ce409928",
   "metadata": {},
   "source": [
    "---"
   ]
  },
  {
   "cell_type": "markdown",
   "id": "6b35b3ba-a6b6-49d5-a66b-279e7199fc8f",
   "metadata": {},
   "source": [
    "* ## ⚠️<span style=\"color: red\"><span style='font-family:\"Times New Roman\"'> <span styel=''>**Points clés de cette dernière étape :**</span></span></span>\n",
    "\n",
    "    - ###  <span style='font-family:\"Times New Roman\"'> <span styel=''><span style='font-family:\"Times New Roman\"'> <span styel=''>Technique d'ensemble avancée (Stacking) :</span></span></span>\n",
    "\n",
    "        - <span style='font-family:\"Times New Roman\"'> <span styel=''><span style='font-family:\"Times New Roman\"'> <span styel=''>Combinaison de plusieurs modèles</span></span></span>\n",
    "        - <span style='font-family:\"Times New Roman\"'> <span styel=''><span style='font-family:\"Times New Roman\"'> <span styel=''>Modèle de méta-classification (Logistic Regression)</span></span></span>\n",
    "\n",
    "\n",
    "    - ###  <span style='font-family:\"Times New Roman\"'> <span styel=''><span style='font-family:\"Times New Roman\"'> <span styel=''>Ingénierie de features améliorée :</span></span></span>\n",
    "\n",
    "        - <span style='font-family:\"Times New Roman\"'> <span styel=''><span style='font-family:\"Times New Roman\"'> <span styel=''>Création de features plus sophistiquées</span></span></span>\n",
    "        - <span style='font-family:\"Times New Roman\"'> <span styel=''><span style='font-family:\"Times New Roman\"'> <span styel=''>Mapping non linéaire pour certaines variables</span></span></span>\n",
    "\n",
    "\n",
    "    - ###  <span style='font-family:\"Times New Roman\"'> <span styel=''><span style='font-family:\"Times New Roman\"'> <span styel=''>Utilisation de plusieurs algorithmes :</span></span></span>\n",
    "\n",
    "        - <span style='font-family:\"Times New Roman\"'> <span styel=''><span style='font-family:\"Times New Roman\"'> <span styel=''>Random Forest</span></span></span>\n",
    "        - <span style='font-family:\"Times New Roman\"'> <span styel=''><span style='font-family:\"Times New Roman\"'> <span styel=''>Gradient Boosting</span></span></span>\n",
    "        - <span style='font-family:\"Times New Roman\"'> <span styel=''><span style='font-family:\"Times New Roman\"'> <span styel=''>XGBoost</span></span></span>\n",
    "\n",
    "\n",
    "    - ###  <span style='font-family:\"Times New Roman\"'> <span styel=''><span style='font-family:\"Times New Roman\"'> <span styel=''>Analyse détaillée des probabilités</span></span></span>"
   ]
  },
  {
   "cell_type": "markdown",
   "id": "f18d2ce2-1bb8-4414-95d0-a40bbce7a402",
   "metadata": {},
   "source": [
    "---"
   ]
  },
  {
   "cell_type": "code",
   "execution_count": null,
   "id": "3da38d6b-4d3c-4e4d-98b7-722af63391e3",
   "metadata": {},
   "outputs": [],
   "source": [
    "# Définition des modèles de base pour l'Ensemble Stacking\n",
    "base_models = [\n",
    "    ('rf', RandomForestClassifier(n_estimators=100, random_state=42)),\n",
    "    ('gb', GradientBoostingClassifier(n_estimators=100, random_state=42)),\n",
    "    ('xgb', best_model_xgb)  # Utilisez le meilleur modèle XGBoost trouvé précédemment\n",
    "]\n",
    "\n",
    "# Optionnel: Ajout d'un modèle diversifié\n",
    "# base_models.append(('svc', SVC(probability=True, random_state=42)))\n",
    "\n",
    "# Initialiser les matrices pour les prédictions de niveau 2\n",
    "n_train = X_train_scaled_rf.shape[0]  # 712\n",
    "n_test = test.shape[0]                # 418\n",
    "n_models = len(base_models)\n",
    "\n",
    "level2_train = np.zeros((n_train, n_models))\n",
    "level2_test = np.zeros((n_test, n_models))\n",
    "\n",
    "# Charger et prétraiter les données de test\n",
    "def preprocess_test_data(df):\n",
    "    X_test_preprocessed = engineer_features(df, is_train=False)\n",
    "    return X_test_preprocessed\n",
    "\n",
    "X_test_preprocessed = preprocess_test_data(test)\n",
    "X_test_scaled = scaler_rf.transform(X_test_preprocessed)\n",
    "\n",
    "# Utiliser une validation croisée stratifiée pour générer les prédictions de niveau 2\n",
    "n_folds = 5\n",
    "kf = StratifiedKFold(n_splits=n_folds, shuffle=True, random_state=42)\n",
    "\n",
    "for i, (name, model) in enumerate(base_models):\n",
    "    oof_preds = np.zeros(n_train)\n",
    "    test_preds_fold = np.zeros((n_folds, n_test))\n",
    "    \n",
    "    print(f\"Entraînement du modèle {name} avec {n_folds} plis...\")\n",
    "    \n",
    "    for fold, (train_idx, valid_idx) in enumerate(kf.split(X_train_scaled_rf, y_train_rf)):\n",
    "        X_tr, X_val_fold = X_train_scaled_rf[train_idx], X_train_scaled_rf[valid_idx]\n",
    "        y_tr, y_val_fold = y_train_rf.iloc[train_idx], y_train_rf.iloc[valid_idx]\n",
    "        \n",
    "        # Entraîner le modèle sur ce fold\n",
    "        model.fit(X_tr, y_tr)\n",
    "        \n",
    "        # Prédire sur le fold de validation (OOF)\n",
    "        oof_preds[valid_idx] = model.predict_proba(X_val_fold)[:, 1]\n",
    "        \n",
    "        # Prédire sur le jeu de test et stocker les prédictions\n",
    "        test_preds_fold[fold, :] = model.predict_proba(X_test_scaled)[:, 1]\n",
    "    \n",
    "    # Stocker les prédictions OOF dans level2_train\n",
    "    level2_train[:, i] = oof_preds\n",
    "    \n",
    "    # Moyenne des prédictions sur le jeu de test à travers les folds\n",
    "    level2_test[:, i] = test_preds_fold.mean(axis=0)\n",
    "    \n",
    "    print(f\"Modèle {name} terminé.\\n\")\n",
    "\n",
    "# Normalisation des prédictions de niveau 2\n",
    "scaler_meta = StandardScaler()\n",
    "level2_train = scaler_meta.fit_transform(level2_train)\n",
    "level2_test = scaler_meta.transform(level2_test)\n",
    "\n",
    "# Entraînement du méta-classificateur (Gradient Boosting)\n",
    "meta_classifier = GradientBoostingClassifier(n_estimators=100, random_state=42)\n",
    "meta_classifier.fit(level2_train, y_train_rf)\n",
    "\n",
    "# Prédictions finales sur le jeu de test\n",
    "final_predictions = meta_classifier.predict(level2_test)\n",
    "\n",
    "# Création du fichier de soumission\n",
    "submission_stacked = pd.DataFrame({\n",
    "    'PassengerId': test['PassengerId'],\n",
    "    'Survived': final_predictions\n",
    "})\n",
    "submission_stacked.to_csv('data/stacked_ensemble_submission.csv', index=False)\n",
    "print(\"Fichier de soumission créé : 'data/stacked_ensemble_submission.csv'\")\n",
    "\n",
    "# Générer les prédictions OOF pour le jeu de validation\n",
    "level2_val = np.zeros((X_val_scaled_rf.shape[0], n_models))\n",
    "\n",
    "for i, (name, model) in enumerate(base_models):\n",
    "    # Entraîner le modèle sur tout le jeu de train\n",
    "    model.fit(X_train_scaled_rf, y_train_rf)\n",
    "    # Prédire sur le jeu de validation\n",
    "    level2_val[:, i] = model.predict_proba(X_val_scaled_rf)[:, 1]\n",
    "\n",
    "# Normaliser les prédictions de niveau 2 pour la validation\n",
    "level2_val = scaler_meta.transform(level2_val)\n",
    "\n",
    "# Prédictions du méta-classificateur sur le jeu de validation\n",
    "val_predictions = meta_classifier.predict(level2_val)\n",
    "\n",
    "# Évaluation du modèle empilé\n",
    "print(\"\\nRésultats du modèle empilé sur validation :\")\n",
    "print(classification_report(y_val_rf, val_predictions))\n",
    "\n",
    "# Analyse des probabilités de survie\n",
    "print(\"\\nProbabilités de survie :\")\n",
    "survival_probs = meta_classifier.predict_proba(level2_test)[:, 1]\n",
    "print(f\"Moyenne des probabilités : {survival_probs.mean():.2%}\")\n",
    "print(f\"Probabilité minimale : {survival_probs.min():.2%}\")\n",
    "print(f\"Probabilité maximale : {survival_probs.max():.2%}\")\n",
    "\n",
    "# Calcul de la précision finale pour le modèle empilé\n",
    "accuracy_stacked = accuracy_score(y_val_rf, val_predictions)\n",
    "roc_auc = roc_auc_score(y_val_rf, meta_classifier.predict_proba(level2_val)[:, 1])\n",
    "\n",
    "print(f\"\\n📊 Score final du modèle empilé (Précision sur l'ensemble de validation) : {accuracy_stacked:.2%}\")\n",
    "print(f\"AUC-ROC : {roc_auc:.2f}\")"
   ]
  },
  {
   "cell_type": "markdown",
   "id": "eafd1df9-3035-4a5b-a50b-2420b316a403",
   "metadata": {},
   "source": [
    "---"
   ]
  },
  {
   "cell_type": "markdown",
   "id": "fe7f372d-2792-4654-bd65-9bf3279626c0",
   "metadata": {},
   "source": [
    "* ## <span style=\"color: red\"><span style='font-family:\"Times New Roman\"'> <span styel=''>**Objectifs atteints :**</span></span></span>\n",
    "\n",
    "    - ###  <span style='font-family:\"Times New Roman\"'> <span styel=''><span style='font-family:\"Times New Roman\"'> <span styel=''>Maximiser la précision de prédiction</span></span></span>\n",
    "    - ###  <span style='font-family:\"Times New Roman\"'> <span styel=''><span style='font-family:\"Times New Roman\"'> <span styel=''>Capture des interactions complexes</span></span></span>\n",
    "    - ###  <span style='font-family:\"Times New Roman\"'> <span styel=''><span style='font-family:\"Times New Roman\"'> <span styel=''>Réduction du risque de surapprentissage</span></span></span>"
   ]
  },
  {
   "cell_type": "markdown",
   "id": "d4c3e88b-69ec-4b2c-a956-e2b388f73f1b",
   "metadata": {},
   "source": [
    "<span style=\"color: #2e6f40\">//////////////////////////////////////////////////////////////////////////////////////////////////////////////////////////////////////////////////////////////////////////////////////////////////////////</span>"
   ]
  },
  {
   "cell_type": "markdown",
   "id": "142c0d74-30fb-48c0-bb4f-4e633279a141",
   "metadata": {},
   "source": [
    "# <span style=\"color: darkred\"><span style='font-family:\"Times New Roman\"'> <span styel=''>**7) <ins>RESULTAT ATTENDU**</ins></span></span>\n",
    "* ## <span style=\"color: darkblue\"><span style='font-family:\"Times New Roman\"'> <span styel=''>**1) De base :**</span></span>\n",
    "    - ### <span style='font-family:\"Times New Roman\"'> <span styel=''>**~62%**</span>\n",
    "* ## <span style=\"color: darkblue\"><span style='font-family:\"Times New Roman\"'> <span styel=''>**2) Regression logistique :**</span></span>\n",
    "    - ### <span style='font-family:\"Times New Roman\"'> <span styel=''>**~75%**</span>\n",
    "* ## <span style=\"color: darkblue\"><span style='font-family:\"Times New Roman\"'> <span styel=''>**3) Random forest :**</span></span>\n",
    "    - ### <span style='font-family:\"Times New Roman\"'> <span styel=''>**~78%-80%**</span>\n",
    "* ## <span style=\"color: darkblue\"><span style='font-family:\"Times New Roman\"'> <span styel=''>**4) XGBoost :**</span></span>\n",
    "    - ### <span style='font-family:\"Times New Roman\"'> <span styel=''>**80%-82%**</span>\n",
    "* ## <span style=\"color: darkblue\"><span style='font-family:\"Times New Roman\"'> <span styel=''>**5) Ensemble :**</span></span>\n",
    "    - ### <span style='font-family:\"Times New Roman\"'> <span styel=''>**82%-85%**</span>"
   ]
  },
  {
   "cell_type": "code",
   "execution_count": null,
   "id": "91000381-a0d7-415d-9136-d0cf53e87aeb",
   "metadata": {},
   "outputs": [],
   "source": [
    "print(\"--------------------------------------------RÉSUMÉ DES SCORES---------------------------------------------------\")\n",
    "print(f\"\\nRÉCAPITULATIF DES PERFORMANCES :\")\n",
    "\n",
    "print(f\"\\nÉTAPE 0 - Score de Base :\")\n",
    "print(f\"📊 Score final du modèle : {baseline_accuracy:.2%}\")\n",
    "\n",
    "print(f\"\\nÉTAPE 1 - Régression Logistique :\")\n",
    "print(f\"📊 Score final du modèle (Précision sur l'ensemble de validation) : {accuracy_logreg:.2%}\")\n",
    "\n",
    "print(f\"\\nÉTAPE 2 - Random Forest :\")\n",
    "print(f\"📊 Score final du modèle (Précision sur l'ensemble de validation) : {accuracy_rf:.2%}\")\n",
    "\n",
    "print(f\"\\nÉTAPE 3 - XGBoost :\")\n",
    "print(f\"📊 Score final du modèle (Précision sur l'ensemble de validation) : {accuracy_xgb:.2%}\")\n",
    "\n",
    "print(f\"\\nÉTAPE 4 - Ensemble Stacking :\")\n",
    "print(f\"📊 Score final du modèle (Précision sur l'ensemble de validation) : {accuracy_stacked:.2%}\")\n",
    "print(f\"AUC-ROC : {roc_auc:.2f}\")\n",
    "\n",
    "print(f\"\\nPROGRESSION DES SCORES :\")\n",
    "print(f\"{baseline_accuracy:.2%} → {accuracy_logreg:.2%} → {accuracy_rf:.2%} → {accuracy_xgb:.2%} → {accuracy_stacked:.2%}\")\n",
    "\n",
    "print(f\"\\nNote : Le score de l'étape 1 ({accuracy_logreg:.2%}) est supérieur aux attentes (~75%), ce qui indique une excellente performance de la Régression Logistique.\")\n",
    "print(\"--------------------------------------------FIN DU RÉSUMÉ---------------------------------------------------\")"
   ]
  },
  {
   "cell_type": "markdown",
   "id": "c884f141-0473-4061-aad6-4de01cc1e759",
   "metadata": {},
   "source": [
    "<span style=\"color: #2e6f40\">//////////////////////////////////////////////////////////////////////////////////////////////////////////////////////////////////////////////////////////////////////////////////////////////////////////</span>"
   ]
  },
  {
   "cell_type": "markdown",
   "id": "59239b76-395f-4085-96c2-068f02d4c159",
   "metadata": {},
   "source": [
    "# <span style=\"color: darkred\"><span style='font-family:\"Times New Roman\"'> <span styel=''>**8) <ins>CONSEIL GÉNÉRAUX**</ins></span></span>\n",
    "* ## <span style=\"color: darkblue\"><span style='font-family:\"Times New Roman\"'> <span styel=''>**1) Documenter**</span></span>\n",
    "* ## <span style=\"color: darkblue\"><span style='font-family:\"Times New Roman\"'> <span styel=''>**2) Visualiser les insights**</span></span>\n",
    "* ## <span style=\"color: darkblue\"><span style='font-family:\"Times New Roman\"'> <span styel=''>**3) Créativité**</span></span>\n",
    "* ## <span style=\"color: darkblue\"><span style='font-family:\"Times New Roman\"'> <span styel=''>**4) Tester plusieurs approche**</span></span>\n",
    "* ## <span style=\"color: darkblue\"><span style='font-family:\"Times New Roman\"'> <span styel=''>**5) Apprendre de chaque iteration**</span></span>\n"
   ]
  }
 ],
 "metadata": {
  "kernelspec": {
   "display_name": "kaggle-titanic",
   "language": "python",
   "name": "python3"
  },
  "language_info": {
   "codemirror_mode": {
    "name": "ipython",
    "version": 3
   },
   "file_extension": ".py",
   "mimetype": "text/x-python",
   "name": "python",
   "nbconvert_exporter": "python",
   "pygments_lexer": "ipython3",
   "version": "3.12.2"
  }
 },
 "nbformat": 4,
 "nbformat_minor": 5
}
